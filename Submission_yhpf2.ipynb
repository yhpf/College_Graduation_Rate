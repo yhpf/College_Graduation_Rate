{
 "cells": [
  {
   "cell_type": "code",
   "execution_count": 124,
   "metadata": {
    "collapsed": true
   },
   "outputs": [],
   "source": [
    "import pandas as pd\n",
    "import numpy as np\n",
    "import requests\n",
    "from fancyimpute import MICE\n",
    "\n",
    "from sklearn.model_selection import train_test_split\n",
    "from sklearn.model_selection import cross_val_score, cross_val_predict\n",
    "from sklearn.preprocessing import StandardScaler\n",
    "from sklearn.grid_search import GridSearchCV\n",
    "from sklearn.ensemble import RandomForestRegressor\n",
    "from sklearn.linear_model import LinearRegression\n",
    "\n",
    "import seaborn as sns\n",
    "from matplotlib import pyplot as plt\n",
    "\n",
    "plt.style.use('fivethirtyeight')\n",
    "\n",
    "%matplotlib inline"
   ]
  },
  {
   "cell_type": "code",
   "execution_count": 2,
   "metadata": {
    "scrolled": true
   },
   "outputs": [
    {
     "data": {
      "text/plain": [
       "array(['PCIP01', 'PCIP03', 'PCIP04', 'PCIP05', 'PCIP09', 'PCIP10',\n",
       "       'PCIP11', 'PCIP12', 'PCIP13', 'PCIP14', 'PCIP15', 'PCIP16',\n",
       "       'PCIP19', 'PCIP22', 'PCIP23', 'PCIP24', 'PCIP25', 'PCIP26',\n",
       "       'PCIP27', 'PCIP29', 'PCIP30', 'PCIP31', 'PCIP38', 'PCIP39',\n",
       "       'PCIP40', 'PCIP41', 'PCIP42', 'PCIP43', 'PCIP44', 'PCIP45',\n",
       "       'PCIP46', 'PCIP47', 'PCIP48', 'PCIP49', 'PCIP50', 'PCIP51',\n",
       "       'PCIP52', 'PCIP54', 'CIP01BACHL', 'CIP03BACHL', 'CIP04BACHL',\n",
       "       'CIP05BACHL', 'CIP09BACHL', 'CIP10BACHL', 'CIP11BACHL',\n",
       "       'CIP12BACHL', 'CIP13BACHL', 'CIP14BACHL', 'CIP15BACHL',\n",
       "       'CIP16BACHL', 'CIP19BACHL', 'CIP22BACHL', 'CIP23BACHL',\n",
       "       'CIP24BACHL', 'CIP25BACHL', 'CIP26BACHL', 'CIP27BACHL',\n",
       "       'CIP29BACHL', 'CIP30BACHL', 'CIP31BACHL', 'CIP38BACHL',\n",
       "       'CIP39BACHL', 'CIP40BACHL', 'CIP41BACHL', 'CIP42BACHL',\n",
       "       'CIP43BACHL', 'CIP44BACHL', 'CIP45BACHL', 'CIP46BACHL',\n",
       "       'CIP47BACHL', 'CIP48BACHL', 'CIP49BACHL', 'CIP50BACHL',\n",
       "       'CIP51BACHL', 'CIP52BACHL', 'CIP54BACHL', 'ADM_RATE', 'SATVRMID',\n",
       "       'SATMTMID', 'SATWRMID', 'ACTCMMID', 'ACTENMID', 'ACTMTMID',\n",
       "       'ACTWRMID', 'PCTFLOAN', 'GRAD_DEBT_MDN', 'WDRAW_DEBT_MDN',\n",
       "       'LO_INC_DEBT_MDN', 'MD_INC_DEBT_MDN', 'HI_INC_DEBT_MDN', 'C150_4',\n",
       "       'TRANS_4', 'COSTT4_A', 'COSTT4_P', 'TUITIONFEE_IN',\n",
       "       'TUITIONFEE_OUT', 'MD_EARN_WNE_P6', 'CONTROL', 'REGION', 'LOCALE',\n",
       "       'LOCALE2', nan, 'TUITFTE', 'INEXPFTE', 'AVGFACSAL', 'PFTFAC', 'UG',\n",
       "       'UG25ABV', 'PAR_ED_PCT_MS', 'PAR_ED_PCT_HS', 'PAR_ED_PCT_PS',\n",
       "       'AGE_ENTRY', 'FEMALE', 'D_PCTPELL_PCTFLOAN'], dtype=object)"
      ]
     },
     "execution_count": 2,
     "metadata": {},
     "output_type": "execute_result"
    }
   ],
   "source": [
    "# read in data dictionary\n",
    "ref = pd.read_csv('./college_data_variables.csv')\n",
    "ref['VARIABLE NAME'].unique()"
   ]
  },
  {
   "cell_type": "code",
   "execution_count": 3,
   "metadata": {
    "collapsed": true
   },
   "outputs": [],
   "source": [
    "# list of variables we want\n",
    "cols = ['PCIP01', 'PCIP03', 'PCIP04', 'PCIP05', 'PCIP09', 'PCIP10',\n",
    "       'PCIP11', 'PCIP12', 'PCIP13', 'PCIP14', 'PCIP15', 'PCIP16',\n",
    "       'PCIP19', 'PCIP22', 'PCIP23', 'PCIP24', 'PCIP25', 'PCIP26',\n",
    "       'PCIP27', 'PCIP29', 'PCIP30', 'PCIP31', 'PCIP38', 'PCIP39',\n",
    "       'PCIP40', 'PCIP41', 'PCIP42', 'PCIP43', 'PCIP44', 'PCIP45',\n",
    "       'PCIP46', 'PCIP47', 'PCIP48', 'PCIP49', 'PCIP50', 'PCIP51',\n",
    "       'PCIP52', 'PCIP54', 'CIP01BACHL', 'CIP03BACHL', 'CIP04BACHL',\n",
    "       'CIP05BACHL', 'CIP09BACHL', 'CIP10BACHL', 'CIP11BACHL',\n",
    "       'CIP12BACHL', 'CIP13BACHL', 'CIP14BACHL', 'CIP15BACHL',\n",
    "       'CIP16BACHL', 'CIP19BACHL', 'CIP22BACHL', 'CIP23BACHL',\n",
    "       'CIP24BACHL', 'CIP25BACHL', 'CIP26BACHL', 'CIP27BACHL',\n",
    "       'CIP29BACHL', 'CIP30BACHL', 'CIP31BACHL', 'CIP38BACHL',\n",
    "       'CIP39BACHL', 'CIP40BACHL', 'CIP41BACHL', 'CIP42BACHL',\n",
    "       'CIP43BACHL', 'CIP44BACHL', 'CIP45BACHL', 'CIP46BACHL',\n",
    "       'CIP47BACHL', 'CIP48BACHL', 'CIP49BACHL', 'CIP50BACHL',\n",
    "       'CIP51BACHL', 'CIP52BACHL', 'CIP54BACHL', 'ADM_RATE', 'SATVRMID',\n",
    "       'SATMTMID', 'SATWRMID', 'ACTCMMID', 'ACTENMID', 'ACTMTMID',\n",
    "       'ACTWRMID', 'PCTFLOAN', 'GRAD_DEBT_MDN', 'WDRAW_DEBT_MDN',\n",
    "       'LO_INC_DEBT_MDN', 'MD_INC_DEBT_MDN', 'HI_INC_DEBT_MDN', 'C150_4',\n",
    "       'TRANS_4', 'COSTT4_A', 'COSTT4_P', 'TUITIONFEE_IN',\n",
    "       'TUITIONFEE_OUT', 'MD_EARN_WNE_P6', 'CONTROL', 'REGION', 'LOCALE',\n",
    "       'LOCALE2', 'TUITFTE', 'INEXPFTE', 'AVGFACSAL', 'PFTFAC', 'UG',\n",
    "       'UG25ABV', 'PAR_ED_PCT_MS', 'PAR_ED_PCT_HS', 'PAR_ED_PCT_PS',\n",
    "       'AGE_ENTRY', 'FEMALE', 'D_PCTPELL_PCTFLOAN']"
   ]
  },
  {
   "cell_type": "code",
   "execution_count": 4,
   "metadata": {},
   "outputs": [
    {
     "name": "stderr",
     "output_type": "stream",
     "text": [
      "/anaconda3/lib/python3.6/site-packages/IPython/core/interactiveshell.py:2698: DtypeWarning: Columns (6,9,1725,1726,1727,1728,1729,1743) have mixed types. Specify dtype option on import or set low_memory=False.\n",
      "  interactivity=interactivity, compiler=compiler, result=result)\n",
      "/anaconda3/lib/python3.6/site-packages/IPython/core/interactiveshell.py:2698: DtypeWarning: Columns (6,1169,1170,1171,1172,1173,1174,1175,1177,1178,1179,1183,1184,1185,1186,1187,1188,1196,1199,1200,1201,1209,1212,1213,1214,1222,1223,1224,1225,1226,1227,1235,1236,1237,1238,1239,1240,1248,1250,1251,1252,1253,1255,1257,1261,1263,1264,1265,1266,1268,1270,1274,1275,1276,1277,1278,1279,1283,1287,1288,1289,1290,1291,1292,1296,1303,1316,1326,1327,1328,1329,1330,1331,1335,1339,1340,1341,1342,1343,1344,1348,1379,1380,1381,1382,1383,1384,1385,1386,1387,1388,1389,1390,1391,1392,1393,1394,1395,1396,1397,1398,1399,1400,1401,1402,1403,1404,1405,1406,1407,1411,1426,1427,1475,1476,1479,1480,1483,1484,1487,1488,1489,1490,1491,1492,1493,1494,1495,1496,1497,1498,1499,1500,1501,1502,1503,1517,1529,1530,1532,1537,1540,1541,1542,1575,1576,1577,1578,1579,1580,1581,1582,1583,1584,1585,1586,1587,1588,1589,1590,1591,1592,1593,1594,1595,1596,1597,1598,1599,1600,1601,1602,1606,1609,1610,1613,1614,1615,1708,1729) have mixed types. Specify dtype option on import or set low_memory=False.\n",
      "  interactivity=interactivity, compiler=compiler, result=result)\n",
      "/anaconda3/lib/python3.6/site-packages/IPython/core/interactiveshell.py:2698: DtypeWarning: Columns (1537,1540,1542,1547,1548,1549,1561,1575,1606,1614,1615,1729) have mixed types. Specify dtype option on import or set low_memory=False.\n",
      "  interactivity=interactivity, compiler=compiler, result=result)\n",
      "/anaconda3/lib/python3.6/site-packages/IPython/core/interactiveshell.py:2698: DtypeWarning: Columns (1537,1540,1542,1575,1606,1614,1615,1729) have mixed types. Specify dtype option on import or set low_memory=False.\n",
      "  interactivity=interactivity, compiler=compiler, result=result)\n"
     ]
    }
   ],
   "source": [
    "# read in large data sets\n",
    "big = pd.read_csv('/Users/yoni/documents/GA_prod/project-5/CollegeScorecard_Raw_Data/MERGED2015_16_PP.csv')\n",
    "big2 = pd.read_csv('/Users/yoni/documents/GA_prod/project-5/CollegeScorecard_Raw_Data/MERGED2014_15_PP.csv')\n",
    "big3 = pd.read_csv('/Users/yoni/documents/GA_prod/project-5/CollegeScorecard_Raw_Data/MERGED2013_14_PP.csv')\n",
    "big4 = pd.read_csv('/Users/yoni/documents/GA_prod/project-5/CollegeScorecard_Raw_Data/MERGED2012_13_PP.csv')\n",
    "big5 = pd.read_csv('/Users/yoni/documents/GA_prod/project-5/CollegeScorecard_Raw_Data/MERGED2011_12_PP.csv')"
   ]
  },
  {
   "cell_type": "code",
   "execution_count": 5,
   "metadata": {
    "collapsed": true
   },
   "outputs": [],
   "source": [
    "def reduce(all_dfs, cols):\n",
    "    finished_dfs = []\n",
    "    for df in all_dfs:\n",
    "        # mask to selected variables\n",
    "        df = df[cols]\n",
    "        # drop all nan rows where % grad is nan\n",
    "        df.dropna(subset=['C150_4'], inplace=True)\n",
    "        # drop columns where all values are nan\n",
    "        df.dropna(how='all', axis=1, inplace = True)\n",
    "        # drop columns where more than 5% of values are nan\n",
    "        df.dropna(thresh=len(df)-len(df)/20, axis=1)\n",
    "        finished_dfs.append(df)\n",
    "        \n",
    "    return finished_dfs[0], finished_dfs[1], finished_dfs[2], finished_dfs[3], finished_dfs[4]"
   ]
  },
  {
   "cell_type": "code",
   "execution_count": 6,
   "metadata": {},
   "outputs": [
    {
     "name": "stderr",
     "output_type": "stream",
     "text": [
      "/anaconda3/lib/python3.6/site-packages/ipykernel/__main__.py:7: SettingWithCopyWarning: \n",
      "A value is trying to be set on a copy of a slice from a DataFrame\n",
      "\n",
      "See the caveats in the documentation: http://pandas.pydata.org/pandas-docs/stable/indexing.html#indexing-view-versus-copy\n",
      "/anaconda3/lib/python3.6/site-packages/ipykernel/__main__.py:9: SettingWithCopyWarning: \n",
      "A value is trying to be set on a copy of a slice from a DataFrame\n",
      "\n",
      "See the caveats in the documentation: http://pandas.pydata.org/pandas-docs/stable/indexing.html#indexing-view-versus-copy\n"
     ]
    }
   ],
   "source": [
    "# reduce all big dfs\n",
    "all_dfs = [big, big2, big3, big4, big5]\n",
    "d1, d2, d3, d4, d5 = reduce(all_dfs, cols)"
   ]
  },
  {
   "cell_type": "code",
   "execution_count": 7,
   "metadata": {
    "collapsed": true
   },
   "outputs": [],
   "source": [
    "def degree_less(df_list):\n",
    "    # list of subcategories for degree offerings\n",
    "    sci = ['PCIP01', 'PCIP03', 'PCIP26', 'PCIP27', 'PCIP11', 'PCIP40', 'PCIP41', 'PCIP19', 'PCIP25']\n",
    "    sci1 = ['CIP01BACHL', 'CIP03BACHL', 'CIP26BACHL', 'CIP27BACHL', 'CIP40BACHL', 'CIP41BACHL', 'CIP19BACHL', 'CIP30BACHL', 'CIP11BACHL']\n",
    "    soc = ['PCIP52', 'PCIP13', 'PCIP42', 'PCIP05', 'PCIP09', 'PCIP10', 'PCIP16', 'PCIP23', 'PCIP24', 'PCIP30', 'PCIP31', 'PCIP38', 'PCIP39', 'PCIP44', 'PCIP45', 'PCIP50', 'PCIP51', 'PCIP54']\n",
    "    soc1 = ['CIP05BACHL', 'CIP09BACHL', 'CIP10BACHL', 'CIP13BACHL', 'CIP16BACHL', 'CIP23BACHL', 'CIP24BACHL', 'CIP25BACHL', 'CIP31BACHL', 'CIP38BACHL', 'CIP39BACHL', 'CIP42BACHL', 'CIP44BACHL', 'CIP45BACHL', 'CIP50BACHL', 'CIP51BACHL', 'CIP52BACHL', 'CIP54BACHL']\n",
    "    tec = ['PCIP04', 'PCIP14', 'PCIP15', 'PCIP22', 'PCIP12', 'PCIP29', 'PCIP43', 'PCIP46', 'PCIP47', 'PCIP48', 'PCIP49']\n",
    "    tec1 = ['CIP04BACHL','CIP12BACHL', 'CIP14BACHL', 'CIP15BACHL', 'CIP22BACHL', 'CIP29BACHL','CIP43BACHL', 'CIP46BACHL', 'CIP47BACHL', 'CIP48BACHL', 'CIP49BACHL']\n",
    "    finished_dfs = []\n",
    "    for n, df in enumerate(df_list):\n",
    "        # add sum columns\n",
    "        df[f'percent_science{n}'] = df[sci].sum(axis=1)\n",
    "        df[f'percent_social{n}'] = df[soc].sum(axis=1)\n",
    "        df[f'percent_technical{n}'] = df[tec].sum(axis=1)\n",
    "        df[f'science_disciplines{n}'] = df[sci1].sum(axis=1)\n",
    "        df[f'social_disciplines{n}'] = df[soc1].sum(axis=1)\n",
    "        df[f'technical_disciplines{n}'] = df[tec1].sum(axis=1)\n",
    "        # drop indiviudal degree columns\n",
    "        df.drop(sci, axis=1, inplace=True)\n",
    "        df.drop(sci1, axis=1, inplace=True)\n",
    "        df.drop(soc, axis=1, inplace=True)\n",
    "        df.drop(soc1, axis=1, inplace=True)\n",
    "        df.drop(tec, axis=1, inplace=True)\n",
    "        df.drop(tec1, axis=1, inplace=True)\n",
    "        \n",
    "        finished_dfs.append(df)\n",
    "        \n",
    "    return finished_dfs[0], finished_dfs[1], finished_dfs[2], finished_dfs[3], finished_dfs[4]"
   ]
  },
  {
   "cell_type": "code",
   "execution_count": 8,
   "metadata": {},
   "outputs": [
    {
     "name": "stderr",
     "output_type": "stream",
     "text": [
      "/anaconda3/lib/python3.6/site-packages/ipykernel/__main__.py:12: SettingWithCopyWarning: \n",
      "A value is trying to be set on a copy of a slice from a DataFrame.\n",
      "Try using .loc[row_indexer,col_indexer] = value instead\n",
      "\n",
      "See the caveats in the documentation: http://pandas.pydata.org/pandas-docs/stable/indexing.html#indexing-view-versus-copy\n",
      "/anaconda3/lib/python3.6/site-packages/ipykernel/__main__.py:13: SettingWithCopyWarning: \n",
      "A value is trying to be set on a copy of a slice from a DataFrame.\n",
      "Try using .loc[row_indexer,col_indexer] = value instead\n",
      "\n",
      "See the caveats in the documentation: http://pandas.pydata.org/pandas-docs/stable/indexing.html#indexing-view-versus-copy\n",
      "/anaconda3/lib/python3.6/site-packages/ipykernel/__main__.py:14: SettingWithCopyWarning: \n",
      "A value is trying to be set on a copy of a slice from a DataFrame.\n",
      "Try using .loc[row_indexer,col_indexer] = value instead\n",
      "\n",
      "See the caveats in the documentation: http://pandas.pydata.org/pandas-docs/stable/indexing.html#indexing-view-versus-copy\n",
      "/anaconda3/lib/python3.6/site-packages/ipykernel/__main__.py:15: SettingWithCopyWarning: \n",
      "A value is trying to be set on a copy of a slice from a DataFrame.\n",
      "Try using .loc[row_indexer,col_indexer] = value instead\n",
      "\n",
      "See the caveats in the documentation: http://pandas.pydata.org/pandas-docs/stable/indexing.html#indexing-view-versus-copy\n",
      "/anaconda3/lib/python3.6/site-packages/ipykernel/__main__.py:16: SettingWithCopyWarning: \n",
      "A value is trying to be set on a copy of a slice from a DataFrame.\n",
      "Try using .loc[row_indexer,col_indexer] = value instead\n",
      "\n",
      "See the caveats in the documentation: http://pandas.pydata.org/pandas-docs/stable/indexing.html#indexing-view-versus-copy\n",
      "/anaconda3/lib/python3.6/site-packages/ipykernel/__main__.py:17: SettingWithCopyWarning: \n",
      "A value is trying to be set on a copy of a slice from a DataFrame.\n",
      "Try using .loc[row_indexer,col_indexer] = value instead\n",
      "\n",
      "See the caveats in the documentation: http://pandas.pydata.org/pandas-docs/stable/indexing.html#indexing-view-versus-copy\n",
      "/anaconda3/lib/python3.6/site-packages/ipykernel/__main__.py:19: SettingWithCopyWarning: \n",
      "A value is trying to be set on a copy of a slice from a DataFrame\n",
      "\n",
      "See the caveats in the documentation: http://pandas.pydata.org/pandas-docs/stable/indexing.html#indexing-view-versus-copy\n",
      "/anaconda3/lib/python3.6/site-packages/ipykernel/__main__.py:20: SettingWithCopyWarning: \n",
      "A value is trying to be set on a copy of a slice from a DataFrame\n",
      "\n",
      "See the caveats in the documentation: http://pandas.pydata.org/pandas-docs/stable/indexing.html#indexing-view-versus-copy\n",
      "/anaconda3/lib/python3.6/site-packages/ipykernel/__main__.py:21: SettingWithCopyWarning: \n",
      "A value is trying to be set on a copy of a slice from a DataFrame\n",
      "\n",
      "See the caveats in the documentation: http://pandas.pydata.org/pandas-docs/stable/indexing.html#indexing-view-versus-copy\n",
      "/anaconda3/lib/python3.6/site-packages/ipykernel/__main__.py:22: SettingWithCopyWarning: \n",
      "A value is trying to be set on a copy of a slice from a DataFrame\n",
      "\n",
      "See the caveats in the documentation: http://pandas.pydata.org/pandas-docs/stable/indexing.html#indexing-view-versus-copy\n",
      "/anaconda3/lib/python3.6/site-packages/ipykernel/__main__.py:23: SettingWithCopyWarning: \n",
      "A value is trying to be set on a copy of a slice from a DataFrame\n",
      "\n",
      "See the caveats in the documentation: http://pandas.pydata.org/pandas-docs/stable/indexing.html#indexing-view-versus-copy\n",
      "/anaconda3/lib/python3.6/site-packages/ipykernel/__main__.py:24: SettingWithCopyWarning: \n",
      "A value is trying to be set on a copy of a slice from a DataFrame\n",
      "\n",
      "See the caveats in the documentation: http://pandas.pydata.org/pandas-docs/stable/indexing.html#indexing-view-versus-copy\n"
     ]
    }
   ],
   "source": [
    "# update all dfs with feature engineering\n",
    "df_list = [d1, d2, d3, d4, d5]\n",
    "df1, df2, df3, df4, df5 = degree_less(df_list)"
   ]
  },
  {
   "cell_type": "code",
   "execution_count": 9,
   "metadata": {},
   "outputs": [
    {
     "name": "stdout",
     "output_type": "stream",
     "text": [
      "(2489, 40)\n",
      "(2481, 38)\n",
      "(2448, 40)\n",
      "(2423, 39)\n",
      "(2370, 40)\n"
     ]
    }
   ],
   "source": [
    "print(df1.shape)\n",
    "print(df2.shape)\n",
    "print(df3.shape)\n",
    "print(df4.shape)\n",
    "print(df5.shape)"
   ]
  },
  {
   "cell_type": "markdown",
   "metadata": {},
   "source": [
    "### THIS IS THE NEW CODE FOR TO TURN STUFF INTO NUMERIC"
   ]
  },
  {
   "cell_type": "markdown",
   "metadata": {},
   "source": [
    "**df1**"
   ]
  },
  {
   "cell_type": "code",
   "execution_count": 10,
   "metadata": {},
   "outputs": [
    {
     "name": "stdout",
     "output_type": "stream",
     "text": [
      "<class 'pandas.core.frame.DataFrame'>\n",
      "Int64Index: 2489 entries, 0 to 7145\n",
      "Data columns (total 40 columns):\n",
      "ADM_RATE                  1812 non-null float64\n",
      "SATVRMID                  1167 non-null float64\n",
      "SATMTMID                  1176 non-null float64\n",
      "SATWRMID                  718 non-null float64\n",
      "ACTCMMID                  1206 non-null float64\n",
      "ACTENMID                  1070 non-null float64\n",
      "ACTMTMID                  1071 non-null float64\n",
      "ACTWRMID                  316 non-null float64\n",
      "PCTFLOAN                  2488 non-null float64\n",
      "GRAD_DEBT_MDN             2487 non-null object\n",
      "WDRAW_DEBT_MDN            2487 non-null object\n",
      "LO_INC_DEBT_MDN           2487 non-null object\n",
      "MD_INC_DEBT_MDN           2487 non-null object\n",
      "HI_INC_DEBT_MDN           2487 non-null object\n",
      "C150_4                    2489 non-null float64\n",
      "TRANS_4                   2489 non-null float64\n",
      "COSTT4_A                  2367 non-null float64\n",
      "COSTT4_P                  29 non-null float64\n",
      "TUITIONFEE_IN             2414 non-null float64\n",
      "TUITIONFEE_OUT            2414 non-null float64\n",
      "CONTROL                   2489 non-null int64\n",
      "REGION                    2489 non-null int64\n",
      "LOCALE                    2489 non-null float64\n",
      "TUITFTE                   2489 non-null float64\n",
      "INEXPFTE                  2489 non-null float64\n",
      "AVGFACSAL                 2417 non-null float64\n",
      "PFTFAC                    2269 non-null float64\n",
      "UG25ABV                   2453 non-null float64\n",
      "PAR_ED_PCT_MS             2486 non-null object\n",
      "PAR_ED_PCT_HS             2486 non-null object\n",
      "PAR_ED_PCT_PS             2486 non-null object\n",
      "AGE_ENTRY                 2486 non-null object\n",
      "FEMALE                    2486 non-null object\n",
      "D_PCTPELL_PCTFLOAN        2488 non-null float64\n",
      "percent_science0          2489 non-null float64\n",
      "percent_social0           2489 non-null float64\n",
      "percent_technical0        2489 non-null float64\n",
      "science_disciplines0      2489 non-null float64\n",
      "social_disciplines0       2489 non-null float64\n",
      "technical_disciplines0    2489 non-null float64\n",
      "dtypes: float64(28), int64(2), object(10)\n",
      "memory usage: 797.3+ KB\n"
     ]
    }
   ],
   "source": [
    "# What columns in df1 need to be changed into numbers?\n",
    "df1.info()"
   ]
  },
  {
   "cell_type": "code",
   "execution_count": 11,
   "metadata": {},
   "outputs": [
    {
     "name": "stderr",
     "output_type": "stream",
     "text": [
      "/anaconda3/lib/python3.6/site-packages/ipykernel/__main__.py:2: SettingWithCopyWarning: \n",
      "A value is trying to be set on a copy of a slice from a DataFrame.\n",
      "Try using .loc[row_indexer,col_indexer] = value instead\n",
      "\n",
      "See the caveats in the documentation: http://pandas.pydata.org/pandas-docs/stable/indexing.html#indexing-view-versus-copy\n",
      "  from ipykernel import kernelapp as app\n",
      "/anaconda3/lib/python3.6/site-packages/ipykernel/__main__.py:3: SettingWithCopyWarning: \n",
      "A value is trying to be set on a copy of a slice from a DataFrame.\n",
      "Try using .loc[row_indexer,col_indexer] = value instead\n",
      "\n",
      "See the caveats in the documentation: http://pandas.pydata.org/pandas-docs/stable/indexing.html#indexing-view-versus-copy\n",
      "  app.launch_new_instance()\n",
      "/anaconda3/lib/python3.6/site-packages/ipykernel/__main__.py:4: SettingWithCopyWarning: \n",
      "A value is trying to be set on a copy of a slice from a DataFrame.\n",
      "Try using .loc[row_indexer,col_indexer] = value instead\n",
      "\n",
      "See the caveats in the documentation: http://pandas.pydata.org/pandas-docs/stable/indexing.html#indexing-view-versus-copy\n",
      "/anaconda3/lib/python3.6/site-packages/ipykernel/__main__.py:5: SettingWithCopyWarning: \n",
      "A value is trying to be set on a copy of a slice from a DataFrame.\n",
      "Try using .loc[row_indexer,col_indexer] = value instead\n",
      "\n",
      "See the caveats in the documentation: http://pandas.pydata.org/pandas-docs/stable/indexing.html#indexing-view-versus-copy\n",
      "/anaconda3/lib/python3.6/site-packages/ipykernel/__main__.py:6: SettingWithCopyWarning: \n",
      "A value is trying to be set on a copy of a slice from a DataFrame.\n",
      "Try using .loc[row_indexer,col_indexer] = value instead\n",
      "\n",
      "See the caveats in the documentation: http://pandas.pydata.org/pandas-docs/stable/indexing.html#indexing-view-versus-copy\n",
      "/anaconda3/lib/python3.6/site-packages/ipykernel/__main__.py:8: SettingWithCopyWarning: \n",
      "A value is trying to be set on a copy of a slice from a DataFrame.\n",
      "Try using .loc[row_indexer,col_indexer] = value instead\n",
      "\n",
      "See the caveats in the documentation: http://pandas.pydata.org/pandas-docs/stable/indexing.html#indexing-view-versus-copy\n",
      "/anaconda3/lib/python3.6/site-packages/ipykernel/__main__.py:9: SettingWithCopyWarning: \n",
      "A value is trying to be set on a copy of a slice from a DataFrame.\n",
      "Try using .loc[row_indexer,col_indexer] = value instead\n",
      "\n",
      "See the caveats in the documentation: http://pandas.pydata.org/pandas-docs/stable/indexing.html#indexing-view-versus-copy\n",
      "/anaconda3/lib/python3.6/site-packages/ipykernel/__main__.py:10: SettingWithCopyWarning: \n",
      "A value is trying to be set on a copy of a slice from a DataFrame.\n",
      "Try using .loc[row_indexer,col_indexer] = value instead\n",
      "\n",
      "See the caveats in the documentation: http://pandas.pydata.org/pandas-docs/stable/indexing.html#indexing-view-versus-copy\n",
      "/anaconda3/lib/python3.6/site-packages/ipykernel/__main__.py:11: SettingWithCopyWarning: \n",
      "A value is trying to be set on a copy of a slice from a DataFrame.\n",
      "Try using .loc[row_indexer,col_indexer] = value instead\n",
      "\n",
      "See the caveats in the documentation: http://pandas.pydata.org/pandas-docs/stable/indexing.html#indexing-view-versus-copy\n",
      "/anaconda3/lib/python3.6/site-packages/ipykernel/__main__.py:12: SettingWithCopyWarning: \n",
      "A value is trying to be set on a copy of a slice from a DataFrame.\n",
      "Try using .loc[row_indexer,col_indexer] = value instead\n",
      "\n",
      "See the caveats in the documentation: http://pandas.pydata.org/pandas-docs/stable/indexing.html#indexing-view-versus-copy\n"
     ]
    }
   ],
   "source": [
    "# Turn all 'PrivacySuppressed' into np.nan and make everyting into floats\n",
    "df1['GRAD_DEBT_MDN'] = df1['GRAD_DEBT_MDN'].apply(lambda x : np.nan if x == 'PrivacySuppressed' else float(x))\n",
    "df1['WDRAW_DEBT_MDN'] = df1['WDRAW_DEBT_MDN'].apply(lambda x : np.nan if x == 'PrivacySuppressed' else float(x))\n",
    "df1['LO_INC_DEBT_MDN'] = df1['LO_INC_DEBT_MDN'].apply(lambda x : np.nan if x == 'PrivacySuppressed' else float(x))\n",
    "df1['MD_INC_DEBT_MDN'] = df1['MD_INC_DEBT_MDN'].apply(lambda x : np.nan if x == 'PrivacySuppressed' else float(x))\n",
    "df1['HI_INC_DEBT_MDN'] = df1['HI_INC_DEBT_MDN'].apply(lambda x : np.nan if x == 'PrivacySuppressed' else float(x))\n",
    "\n",
    "df1['PAR_ED_PCT_MS'] = df1['PAR_ED_PCT_MS'].apply(lambda x : np.nan if x == 'PrivacySuppressed' else float(x))\n",
    "df1['PAR_ED_PCT_HS'] = df1['PAR_ED_PCT_HS'].apply(lambda x : np.nan if x == 'PrivacySuppressed' else float(x))\n",
    "df1['PAR_ED_PCT_PS'] = df1['PAR_ED_PCT_PS'].apply(lambda x : np.nan if x == 'PrivacySuppressed' else float(x))\n",
    "df1['AGE_ENTRY'] = df1['AGE_ENTRY'].apply(lambda x : np.nan if x == 'PrivacySuppressed' else float(x))\n",
    "df1['FEMALE'] = df1['FEMALE'].apply(lambda x : np.nan if x == 'PrivacySuppressed' else float(x))"
   ]
  },
  {
   "cell_type": "code",
   "execution_count": 12,
   "metadata": {},
   "outputs": [
    {
     "name": "stdout",
     "output_type": "stream",
     "text": [
      "<class 'pandas.core.frame.DataFrame'>\n",
      "Int64Index: 2489 entries, 0 to 7145\n",
      "Data columns (total 40 columns):\n",
      "ADM_RATE                  1812 non-null float64\n",
      "SATVRMID                  1167 non-null float64\n",
      "SATMTMID                  1176 non-null float64\n",
      "SATWRMID                  718 non-null float64\n",
      "ACTCMMID                  1206 non-null float64\n",
      "ACTENMID                  1070 non-null float64\n",
      "ACTMTMID                  1071 non-null float64\n",
      "ACTWRMID                  316 non-null float64\n",
      "PCTFLOAN                  2488 non-null float64\n",
      "GRAD_DEBT_MDN             2321 non-null float64\n",
      "WDRAW_DEBT_MDN            2320 non-null float64\n",
      "LO_INC_DEBT_MDN           2320 non-null float64\n",
      "MD_INC_DEBT_MDN           2240 non-null float64\n",
      "HI_INC_DEBT_MDN           2243 non-null float64\n",
      "C150_4                    2489 non-null float64\n",
      "TRANS_4                   2489 non-null float64\n",
      "COSTT4_A                  2367 non-null float64\n",
      "COSTT4_P                  29 non-null float64\n",
      "TUITIONFEE_IN             2414 non-null float64\n",
      "TUITIONFEE_OUT            2414 non-null float64\n",
      "CONTROL                   2489 non-null int64\n",
      "REGION                    2489 non-null int64\n",
      "LOCALE                    2489 non-null float64\n",
      "TUITFTE                   2489 non-null float64\n",
      "INEXPFTE                  2489 non-null float64\n",
      "AVGFACSAL                 2417 non-null float64\n",
      "PFTFAC                    2269 non-null float64\n",
      "UG25ABV                   2453 non-null float64\n",
      "PAR_ED_PCT_MS             1821 non-null float64\n",
      "PAR_ED_PCT_HS             1821 non-null float64\n",
      "PAR_ED_PCT_PS             2292 non-null float64\n",
      "AGE_ENTRY                 2471 non-null float64\n",
      "FEMALE                    2361 non-null float64\n",
      "D_PCTPELL_PCTFLOAN        2488 non-null float64\n",
      "percent_science0          2489 non-null float64\n",
      "percent_social0           2489 non-null float64\n",
      "percent_technical0        2489 non-null float64\n",
      "science_disciplines0      2489 non-null float64\n",
      "social_disciplines0       2489 non-null float64\n",
      "technical_disciplines0    2489 non-null float64\n",
      "dtypes: float64(38), int64(2)\n",
      "memory usage: 797.3 KB\n"
     ]
    }
   ],
   "source": [
    "# Check that all columns in df1 are numeric\n",
    "df1.info()"
   ]
  },
  {
   "cell_type": "markdown",
   "metadata": {},
   "source": [
    "**df2**"
   ]
  },
  {
   "cell_type": "code",
   "execution_count": 13,
   "metadata": {},
   "outputs": [
    {
     "name": "stdout",
     "output_type": "stream",
     "text": [
      "<class 'pandas.core.frame.DataFrame'>\n",
      "Int64Index: 2481 entries, 0 to 7270\n",
      "Data columns (total 38 columns):\n",
      "ADM_RATE                  1806 non-null float64\n",
      "SATVRMID                  1169 non-null float64\n",
      "SATMTMID                  1182 non-null float64\n",
      "SATWRMID                  719 non-null float64\n",
      "ACTCMMID                  1228 non-null float64\n",
      "ACTENMID                  1083 non-null float64\n",
      "ACTMTMID                  1085 non-null float64\n",
      "ACTWRMID                  291 non-null float64\n",
      "PCTFLOAN                  2480 non-null float64\n",
      "GRAD_DEBT_MDN             2479 non-null object\n",
      "WDRAW_DEBT_MDN            2479 non-null object\n",
      "LO_INC_DEBT_MDN           2479 non-null object\n",
      "MD_INC_DEBT_MDN           2479 non-null object\n",
      "HI_INC_DEBT_MDN           2479 non-null object\n",
      "C150_4                    2481 non-null float64\n",
      "TRANS_4                   2481 non-null float64\n",
      "COSTT4_A                  2412 non-null float64\n",
      "COSTT4_P                  24 non-null float64\n",
      "TUITIONFEE_IN             2442 non-null float64\n",
      "TUITIONFEE_OUT            2442 non-null float64\n",
      "CONTROL                   2481 non-null int64\n",
      "REGION                    2481 non-null int64\n",
      "TUITFTE                   2481 non-null float64\n",
      "INEXPFTE                  2481 non-null float64\n",
      "AVGFACSAL                 2445 non-null float64\n",
      "PFTFAC                    2288 non-null float64\n",
      "PAR_ED_PCT_MS             2479 non-null object\n",
      "PAR_ED_PCT_HS             2479 non-null object\n",
      "PAR_ED_PCT_PS             2479 non-null object\n",
      "AGE_ENTRY                 2479 non-null object\n",
      "FEMALE                    2479 non-null object\n",
      "D_PCTPELL_PCTFLOAN        2481 non-null float64\n",
      "percent_science1          2481 non-null float64\n",
      "percent_social1           2481 non-null float64\n",
      "percent_technical1        2481 non-null float64\n",
      "science_disciplines1      2481 non-null float64\n",
      "social_disciplines1       2481 non-null float64\n",
      "technical_disciplines1    2481 non-null float64\n",
      "dtypes: float64(26), int64(2), object(10)\n",
      "memory usage: 755.9+ KB\n"
     ]
    }
   ],
   "source": [
    "# What columns in df2 need to be changed into numbers?\n",
    "df2.info()"
   ]
  },
  {
   "cell_type": "code",
   "execution_count": 14,
   "metadata": {},
   "outputs": [
    {
     "name": "stderr",
     "output_type": "stream",
     "text": [
      "/anaconda3/lib/python3.6/site-packages/ipykernel/__main__.py:2: SettingWithCopyWarning: \n",
      "A value is trying to be set on a copy of a slice from a DataFrame.\n",
      "Try using .loc[row_indexer,col_indexer] = value instead\n",
      "\n",
      "See the caveats in the documentation: http://pandas.pydata.org/pandas-docs/stable/indexing.html#indexing-view-versus-copy\n",
      "  from ipykernel import kernelapp as app\n",
      "/anaconda3/lib/python3.6/site-packages/ipykernel/__main__.py:3: SettingWithCopyWarning: \n",
      "A value is trying to be set on a copy of a slice from a DataFrame.\n",
      "Try using .loc[row_indexer,col_indexer] = value instead\n",
      "\n",
      "See the caveats in the documentation: http://pandas.pydata.org/pandas-docs/stable/indexing.html#indexing-view-versus-copy\n",
      "  app.launch_new_instance()\n",
      "/anaconda3/lib/python3.6/site-packages/ipykernel/__main__.py:4: SettingWithCopyWarning: \n",
      "A value is trying to be set on a copy of a slice from a DataFrame.\n",
      "Try using .loc[row_indexer,col_indexer] = value instead\n",
      "\n",
      "See the caveats in the documentation: http://pandas.pydata.org/pandas-docs/stable/indexing.html#indexing-view-versus-copy\n",
      "/anaconda3/lib/python3.6/site-packages/ipykernel/__main__.py:5: SettingWithCopyWarning: \n",
      "A value is trying to be set on a copy of a slice from a DataFrame.\n",
      "Try using .loc[row_indexer,col_indexer] = value instead\n",
      "\n",
      "See the caveats in the documentation: http://pandas.pydata.org/pandas-docs/stable/indexing.html#indexing-view-versus-copy\n",
      "/anaconda3/lib/python3.6/site-packages/ipykernel/__main__.py:6: SettingWithCopyWarning: \n",
      "A value is trying to be set on a copy of a slice from a DataFrame.\n",
      "Try using .loc[row_indexer,col_indexer] = value instead\n",
      "\n",
      "See the caveats in the documentation: http://pandas.pydata.org/pandas-docs/stable/indexing.html#indexing-view-versus-copy\n",
      "/anaconda3/lib/python3.6/site-packages/ipykernel/__main__.py:8: SettingWithCopyWarning: \n",
      "A value is trying to be set on a copy of a slice from a DataFrame.\n",
      "Try using .loc[row_indexer,col_indexer] = value instead\n",
      "\n",
      "See the caveats in the documentation: http://pandas.pydata.org/pandas-docs/stable/indexing.html#indexing-view-versus-copy\n",
      "/anaconda3/lib/python3.6/site-packages/ipykernel/__main__.py:9: SettingWithCopyWarning: \n",
      "A value is trying to be set on a copy of a slice from a DataFrame.\n",
      "Try using .loc[row_indexer,col_indexer] = value instead\n",
      "\n",
      "See the caveats in the documentation: http://pandas.pydata.org/pandas-docs/stable/indexing.html#indexing-view-versus-copy\n",
      "/anaconda3/lib/python3.6/site-packages/ipykernel/__main__.py:10: SettingWithCopyWarning: \n",
      "A value is trying to be set on a copy of a slice from a DataFrame.\n",
      "Try using .loc[row_indexer,col_indexer] = value instead\n",
      "\n",
      "See the caveats in the documentation: http://pandas.pydata.org/pandas-docs/stable/indexing.html#indexing-view-versus-copy\n",
      "/anaconda3/lib/python3.6/site-packages/ipykernel/__main__.py:11: SettingWithCopyWarning: \n",
      "A value is trying to be set on a copy of a slice from a DataFrame.\n",
      "Try using .loc[row_indexer,col_indexer] = value instead\n",
      "\n",
      "See the caveats in the documentation: http://pandas.pydata.org/pandas-docs/stable/indexing.html#indexing-view-versus-copy\n",
      "/anaconda3/lib/python3.6/site-packages/ipykernel/__main__.py:12: SettingWithCopyWarning: \n",
      "A value is trying to be set on a copy of a slice from a DataFrame.\n",
      "Try using .loc[row_indexer,col_indexer] = value instead\n",
      "\n",
      "See the caveats in the documentation: http://pandas.pydata.org/pandas-docs/stable/indexing.html#indexing-view-versus-copy\n"
     ]
    }
   ],
   "source": [
    "# Turn all 'PrivacySuppressed' into np.nan and make everyting into floats\n",
    "df2['GRAD_DEBT_MDN'] = df2['GRAD_DEBT_MDN'].apply(lambda x : np.nan if x == 'PrivacySuppressed' else float(x))\n",
    "df2['WDRAW_DEBT_MDN'] = df2['WDRAW_DEBT_MDN'].apply(lambda x : np.nan if x == 'PrivacySuppressed' else float(x))\n",
    "df2['LO_INC_DEBT_MDN'] = df2['LO_INC_DEBT_MDN'].apply(lambda x : np.nan if x == 'PrivacySuppressed' else float(x))\n",
    "df2['MD_INC_DEBT_MDN'] = df2['MD_INC_DEBT_MDN'].apply(lambda x : np.nan if x == 'PrivacySuppressed' else float(x))\n",
    "df2['HI_INC_DEBT_MDN'] = df2['HI_INC_DEBT_MDN'].apply(lambda x : np.nan if x == 'PrivacySuppressed' else float(x))\n",
    "\n",
    "df2['PAR_ED_PCT_MS'] = df2['PAR_ED_PCT_MS'].apply(lambda x : np.nan if x == 'PrivacySuppressed' else float(x))\n",
    "df2['PAR_ED_PCT_HS'] = df2['PAR_ED_PCT_HS'].apply(lambda x : np.nan if x == 'PrivacySuppressed' else float(x))\n",
    "df2['PAR_ED_PCT_PS'] = df2['PAR_ED_PCT_PS'].apply(lambda x : np.nan if x == 'PrivacySuppressed' else float(x))\n",
    "df2['AGE_ENTRY'] = df2['AGE_ENTRY'].apply(lambda x : np.nan if x == 'PrivacySuppressed' else float(x))\n",
    "df2['FEMALE'] = df2['FEMALE'].apply(lambda x : np.nan if x == 'PrivacySuppressed' else float(x))"
   ]
  },
  {
   "cell_type": "code",
   "execution_count": 15,
   "metadata": {},
   "outputs": [
    {
     "name": "stdout",
     "output_type": "stream",
     "text": [
      "<class 'pandas.core.frame.DataFrame'>\n",
      "Int64Index: 2481 entries, 0 to 7270\n",
      "Data columns (total 38 columns):\n",
      "ADM_RATE                  1806 non-null float64\n",
      "SATVRMID                  1169 non-null float64\n",
      "SATMTMID                  1182 non-null float64\n",
      "SATWRMID                  719 non-null float64\n",
      "ACTCMMID                  1228 non-null float64\n",
      "ACTENMID                  1083 non-null float64\n",
      "ACTMTMID                  1085 non-null float64\n",
      "ACTWRMID                  291 non-null float64\n",
      "PCTFLOAN                  2480 non-null float64\n",
      "GRAD_DEBT_MDN             2321 non-null float64\n",
      "WDRAW_DEBT_MDN            2326 non-null float64\n",
      "LO_INC_DEBT_MDN           2320 non-null float64\n",
      "MD_INC_DEBT_MDN           2247 non-null float64\n",
      "HI_INC_DEBT_MDN           2245 non-null float64\n",
      "C150_4                    2481 non-null float64\n",
      "TRANS_4                   2481 non-null float64\n",
      "COSTT4_A                  2412 non-null float64\n",
      "COSTT4_P                  24 non-null float64\n",
      "TUITIONFEE_IN             2442 non-null float64\n",
      "TUITIONFEE_OUT            2442 non-null float64\n",
      "CONTROL                   2481 non-null int64\n",
      "REGION                    2481 non-null int64\n",
      "TUITFTE                   2481 non-null float64\n",
      "INEXPFTE                  2481 non-null float64\n",
      "AVGFACSAL                 2445 non-null float64\n",
      "PFTFAC                    2288 non-null float64\n",
      "PAR_ED_PCT_MS             1839 non-null float64\n",
      "PAR_ED_PCT_HS             1839 non-null float64\n",
      "PAR_ED_PCT_PS             2304 non-null float64\n",
      "AGE_ENTRY                 2465 non-null float64\n",
      "FEMALE                    2364 non-null float64\n",
      "D_PCTPELL_PCTFLOAN        2481 non-null float64\n",
      "percent_science1          2481 non-null float64\n",
      "percent_social1           2481 non-null float64\n",
      "percent_technical1        2481 non-null float64\n",
      "science_disciplines1      2481 non-null float64\n",
      "social_disciplines1       2481 non-null float64\n",
      "technical_disciplines1    2481 non-null float64\n",
      "dtypes: float64(36), int64(2)\n",
      "memory usage: 755.9 KB\n"
     ]
    }
   ],
   "source": [
    "# Check that all columns in df2 are numeric\n",
    "df2.info()"
   ]
  },
  {
   "cell_type": "markdown",
   "metadata": {
    "collapsed": true
   },
   "source": [
    "**df3**"
   ]
  },
  {
   "cell_type": "code",
   "execution_count": 16,
   "metadata": {},
   "outputs": [
    {
     "name": "stdout",
     "output_type": "stream",
     "text": [
      "<class 'pandas.core.frame.DataFrame'>\n",
      "Int64Index: 2448 entries, 0 to 7371\n",
      "Data columns (total 40 columns):\n",
      "ADM_RATE                  1797 non-null float64\n",
      "SATVRMID                  1269 non-null float64\n",
      "SATMTMID                  1283 non-null float64\n",
      "SATWRMID                  777 non-null float64\n",
      "ACTCMMID                  1310 non-null float64\n",
      "ACTENMID                  1133 non-null float64\n",
      "ACTMTMID                  1134 non-null float64\n",
      "ACTWRMID                  290 non-null float64\n",
      "PCTFLOAN                  2446 non-null float64\n",
      "GRAD_DEBT_MDN             2445 non-null object\n",
      "WDRAW_DEBT_MDN            2445 non-null object\n",
      "LO_INC_DEBT_MDN           2445 non-null object\n",
      "MD_INC_DEBT_MDN           2445 non-null object\n",
      "HI_INC_DEBT_MDN           2445 non-null object\n",
      "C150_4                    2448 non-null float64\n",
      "TRANS_4                   2448 non-null float64\n",
      "COSTT4_A                  2388 non-null float64\n",
      "COSTT4_P                  24 non-null float64\n",
      "TUITIONFEE_IN             2411 non-null float64\n",
      "TUITIONFEE_OUT            2411 non-null float64\n",
      "MD_EARN_WNE_P6            2407 non-null object\n",
      "CONTROL                   2448 non-null int64\n",
      "REGION                    2448 non-null int64\n",
      "TUITFTE                   2448 non-null float64\n",
      "INEXPFTE                  2448 non-null float64\n",
      "AVGFACSAL                 2430 non-null float64\n",
      "PFTFAC                    2265 non-null float64\n",
      "UG25ABV                   2447 non-null float64\n",
      "PAR_ED_PCT_MS             2446 non-null object\n",
      "PAR_ED_PCT_HS             2446 non-null object\n",
      "PAR_ED_PCT_PS             2446 non-null object\n",
      "AGE_ENTRY                 2446 non-null object\n",
      "FEMALE                    2446 non-null object\n",
      "D_PCTPELL_PCTFLOAN        2448 non-null float64\n",
      "percent_science2          2448 non-null float64\n",
      "percent_social2           2448 non-null float64\n",
      "percent_technical2        2448 non-null float64\n",
      "science_disciplines2      2448 non-null float64\n",
      "social_disciplines2       2448 non-null float64\n",
      "technical_disciplines2    2448 non-null float64\n",
      "dtypes: float64(27), int64(2), object(11)\n",
      "memory usage: 784.1+ KB\n"
     ]
    }
   ],
   "source": [
    "# What columns in df3 need to be changed into numbers?\n",
    "df3.info()"
   ]
  },
  {
   "cell_type": "code",
   "execution_count": 17,
   "metadata": {},
   "outputs": [
    {
     "name": "stderr",
     "output_type": "stream",
     "text": [
      "/anaconda3/lib/python3.6/site-packages/ipykernel/__main__.py:2: SettingWithCopyWarning: \n",
      "A value is trying to be set on a copy of a slice from a DataFrame.\n",
      "Try using .loc[row_indexer,col_indexer] = value instead\n",
      "\n",
      "See the caveats in the documentation: http://pandas.pydata.org/pandas-docs/stable/indexing.html#indexing-view-versus-copy\n",
      "  from ipykernel import kernelapp as app\n",
      "/anaconda3/lib/python3.6/site-packages/ipykernel/__main__.py:3: SettingWithCopyWarning: \n",
      "A value is trying to be set on a copy of a slice from a DataFrame.\n",
      "Try using .loc[row_indexer,col_indexer] = value instead\n",
      "\n",
      "See the caveats in the documentation: http://pandas.pydata.org/pandas-docs/stable/indexing.html#indexing-view-versus-copy\n",
      "  app.launch_new_instance()\n",
      "/anaconda3/lib/python3.6/site-packages/ipykernel/__main__.py:4: SettingWithCopyWarning: \n",
      "A value is trying to be set on a copy of a slice from a DataFrame.\n",
      "Try using .loc[row_indexer,col_indexer] = value instead\n",
      "\n",
      "See the caveats in the documentation: http://pandas.pydata.org/pandas-docs/stable/indexing.html#indexing-view-versus-copy\n",
      "/anaconda3/lib/python3.6/site-packages/ipykernel/__main__.py:5: SettingWithCopyWarning: \n",
      "A value is trying to be set on a copy of a slice from a DataFrame.\n",
      "Try using .loc[row_indexer,col_indexer] = value instead\n",
      "\n",
      "See the caveats in the documentation: http://pandas.pydata.org/pandas-docs/stable/indexing.html#indexing-view-versus-copy\n",
      "/anaconda3/lib/python3.6/site-packages/ipykernel/__main__.py:6: SettingWithCopyWarning: \n",
      "A value is trying to be set on a copy of a slice from a DataFrame.\n",
      "Try using .loc[row_indexer,col_indexer] = value instead\n",
      "\n",
      "See the caveats in the documentation: http://pandas.pydata.org/pandas-docs/stable/indexing.html#indexing-view-versus-copy\n",
      "/anaconda3/lib/python3.6/site-packages/ipykernel/__main__.py:8: SettingWithCopyWarning: \n",
      "A value is trying to be set on a copy of a slice from a DataFrame.\n",
      "Try using .loc[row_indexer,col_indexer] = value instead\n",
      "\n",
      "See the caveats in the documentation: http://pandas.pydata.org/pandas-docs/stable/indexing.html#indexing-view-versus-copy\n",
      "/anaconda3/lib/python3.6/site-packages/ipykernel/__main__.py:10: SettingWithCopyWarning: \n",
      "A value is trying to be set on a copy of a slice from a DataFrame.\n",
      "Try using .loc[row_indexer,col_indexer] = value instead\n",
      "\n",
      "See the caveats in the documentation: http://pandas.pydata.org/pandas-docs/stable/indexing.html#indexing-view-versus-copy\n",
      "/anaconda3/lib/python3.6/site-packages/ipykernel/__main__.py:11: SettingWithCopyWarning: \n",
      "A value is trying to be set on a copy of a slice from a DataFrame.\n",
      "Try using .loc[row_indexer,col_indexer] = value instead\n",
      "\n",
      "See the caveats in the documentation: http://pandas.pydata.org/pandas-docs/stable/indexing.html#indexing-view-versus-copy\n",
      "/anaconda3/lib/python3.6/site-packages/ipykernel/__main__.py:12: SettingWithCopyWarning: \n",
      "A value is trying to be set on a copy of a slice from a DataFrame.\n",
      "Try using .loc[row_indexer,col_indexer] = value instead\n",
      "\n",
      "See the caveats in the documentation: http://pandas.pydata.org/pandas-docs/stable/indexing.html#indexing-view-versus-copy\n",
      "/anaconda3/lib/python3.6/site-packages/ipykernel/__main__.py:13: SettingWithCopyWarning: \n",
      "A value is trying to be set on a copy of a slice from a DataFrame.\n",
      "Try using .loc[row_indexer,col_indexer] = value instead\n",
      "\n",
      "See the caveats in the documentation: http://pandas.pydata.org/pandas-docs/stable/indexing.html#indexing-view-versus-copy\n",
      "/anaconda3/lib/python3.6/site-packages/ipykernel/__main__.py:14: SettingWithCopyWarning: \n",
      "A value is trying to be set on a copy of a slice from a DataFrame.\n",
      "Try using .loc[row_indexer,col_indexer] = value instead\n",
      "\n",
      "See the caveats in the documentation: http://pandas.pydata.org/pandas-docs/stable/indexing.html#indexing-view-versus-copy\n"
     ]
    }
   ],
   "source": [
    "# Turn all 'PrivacySuppressed' into np.nan and make everyting into floats\n",
    "df3['GRAD_DEBT_MDN'] = df3['GRAD_DEBT_MDN'].apply(lambda x : np.nan if x == 'PrivacySuppressed' else float(x))\n",
    "df3['WDRAW_DEBT_MDN'] = df3['WDRAW_DEBT_MDN'].apply(lambda x : np.nan if x == 'PrivacySuppressed' else float(x))\n",
    "df3['LO_INC_DEBT_MDN'] = df3['LO_INC_DEBT_MDN'].apply(lambda x : np.nan if x == 'PrivacySuppressed' else float(x))\n",
    "df3['MD_INC_DEBT_MDN'] = df3['MD_INC_DEBT_MDN'].apply(lambda x : np.nan if x == 'PrivacySuppressed' else float(x))\n",
    "df3['HI_INC_DEBT_MDN'] = df3['HI_INC_DEBT_MDN'].apply(lambda x : np.nan if x == 'PrivacySuppressed' else float(x))\n",
    "\n",
    "df3['MD_EARN_WNE_P6'] = df3['MD_EARN_WNE_P6'].apply(lambda x : np.nan if x == 'PrivacySuppressed' else float(x))\n",
    "\n",
    "df3['PAR_ED_PCT_MS'] = df3['PAR_ED_PCT_MS'].apply(lambda x : np.nan if x == 'PrivacySuppressed' else float(x))\n",
    "df3['PAR_ED_PCT_HS'] = df3['PAR_ED_PCT_HS'].apply(lambda x : np.nan if x == 'PrivacySuppressed' else float(x))\n",
    "df3['PAR_ED_PCT_PS'] = df3['PAR_ED_PCT_PS'].apply(lambda x : np.nan if x == 'PrivacySuppressed' else float(x))\n",
    "df3['AGE_ENTRY'] = df3['AGE_ENTRY'].apply(lambda x : np.nan if x == 'PrivacySuppressed' else float(x))\n",
    "df3['FEMALE'] = df3['FEMALE'].apply(lambda x : np.nan if x == 'PrivacySuppressed' else float(x))"
   ]
  },
  {
   "cell_type": "code",
   "execution_count": 18,
   "metadata": {},
   "outputs": [
    {
     "name": "stdout",
     "output_type": "stream",
     "text": [
      "<class 'pandas.core.frame.DataFrame'>\n",
      "Int64Index: 2448 entries, 0 to 7371\n",
      "Data columns (total 40 columns):\n",
      "ADM_RATE                  1797 non-null float64\n",
      "SATVRMID                  1269 non-null float64\n",
      "SATMTMID                  1283 non-null float64\n",
      "SATWRMID                  777 non-null float64\n",
      "ACTCMMID                  1310 non-null float64\n",
      "ACTENMID                  1133 non-null float64\n",
      "ACTMTMID                  1134 non-null float64\n",
      "ACTWRMID                  290 non-null float64\n",
      "PCTFLOAN                  2446 non-null float64\n",
      "GRAD_DEBT_MDN             2283 non-null float64\n",
      "WDRAW_DEBT_MDN            2288 non-null float64\n",
      "LO_INC_DEBT_MDN           2285 non-null float64\n",
      "MD_INC_DEBT_MDN           2214 non-null float64\n",
      "HI_INC_DEBT_MDN           2214 non-null float64\n",
      "C150_4                    2448 non-null float64\n",
      "TRANS_4                   2448 non-null float64\n",
      "COSTT4_A                  2388 non-null float64\n",
      "COSTT4_P                  24 non-null float64\n",
      "TUITIONFEE_IN             2411 non-null float64\n",
      "TUITIONFEE_OUT            2411 non-null float64\n",
      "MD_EARN_WNE_P6            2297 non-null float64\n",
      "CONTROL                   2448 non-null int64\n",
      "REGION                    2448 non-null int64\n",
      "TUITFTE                   2448 non-null float64\n",
      "INEXPFTE                  2448 non-null float64\n",
      "AVGFACSAL                 2430 non-null float64\n",
      "PFTFAC                    2265 non-null float64\n",
      "UG25ABV                   2447 non-null float64\n",
      "PAR_ED_PCT_MS             1800 non-null float64\n",
      "PAR_ED_PCT_HS             1800 non-null float64\n",
      "PAR_ED_PCT_PS             2279 non-null float64\n",
      "AGE_ENTRY                 2437 non-null float64\n",
      "FEMALE                    2331 non-null float64\n",
      "D_PCTPELL_PCTFLOAN        2448 non-null float64\n",
      "percent_science2          2448 non-null float64\n",
      "percent_social2           2448 non-null float64\n",
      "percent_technical2        2448 non-null float64\n",
      "science_disciplines2      2448 non-null float64\n",
      "social_disciplines2       2448 non-null float64\n",
      "technical_disciplines2    2448 non-null float64\n",
      "dtypes: float64(38), int64(2)\n",
      "memory usage: 784.1 KB\n"
     ]
    }
   ],
   "source": [
    "# Check that all columns in df3 are numeric\n",
    "df3.info()"
   ]
  },
  {
   "cell_type": "markdown",
   "metadata": {},
   "source": [
    "**df4**"
   ]
  },
  {
   "cell_type": "code",
   "execution_count": 19,
   "metadata": {},
   "outputs": [
    {
     "name": "stdout",
     "output_type": "stream",
     "text": [
      "<class 'pandas.core.frame.DataFrame'>\n",
      "Int64Index: 2423 entries, 0 to 7387\n",
      "Data columns (total 39 columns):\n",
      "ADM_RATE                  1833 non-null float64\n",
      "SATVRMID                  1266 non-null float64\n",
      "SATMTMID                  1280 non-null float64\n",
      "SATWRMID                  762 non-null float64\n",
      "ACTCMMID                  1294 non-null float64\n",
      "ACTENMID                  1110 non-null float64\n",
      "ACTMTMID                  1109 non-null float64\n",
      "ACTWRMID                  261 non-null float64\n",
      "PCTFLOAN                  2420 non-null float64\n",
      "GRAD_DEBT_MDN             2420 non-null object\n",
      "WDRAW_DEBT_MDN            2420 non-null object\n",
      "LO_INC_DEBT_MDN           2420 non-null object\n",
      "MD_INC_DEBT_MDN           2420 non-null object\n",
      "HI_INC_DEBT_MDN           2420 non-null object\n",
      "C150_4                    2423 non-null float64\n",
      "TRANS_4                   2423 non-null float64\n",
      "COSTT4_A                  2376 non-null float64\n",
      "COSTT4_P                  21 non-null float64\n",
      "TUITIONFEE_IN             2376 non-null float64\n",
      "TUITIONFEE_OUT            2376 non-null float64\n",
      "MD_EARN_WNE_P6            2385 non-null object\n",
      "CONTROL                   2423 non-null int64\n",
      "REGION                    2423 non-null int64\n",
      "TUITFTE                   2423 non-null float64\n",
      "INEXPFTE                  2423 non-null float64\n",
      "AVGFACSAL                 2367 non-null float64\n",
      "PFTFAC                    2242 non-null float64\n",
      "PAR_ED_PCT_MS             2423 non-null object\n",
      "PAR_ED_PCT_HS             2423 non-null object\n",
      "PAR_ED_PCT_PS             2423 non-null object\n",
      "AGE_ENTRY                 2423 non-null object\n",
      "FEMALE                    2423 non-null object\n",
      "D_PCTPELL_PCTFLOAN        2423 non-null float64\n",
      "percent_science3          2423 non-null float64\n",
      "percent_social3           2423 non-null float64\n",
      "percent_technical3        2423 non-null float64\n",
      "science_disciplines3      2423 non-null float64\n",
      "social_disciplines3       2423 non-null float64\n",
      "technical_disciplines3    2423 non-null float64\n",
      "dtypes: float64(26), int64(2), object(11)\n",
      "memory usage: 757.2+ KB\n"
     ]
    }
   ],
   "source": [
    "# What columns in df4 need to be changed into numbers?\n",
    "df4.info()"
   ]
  },
  {
   "cell_type": "code",
   "execution_count": 20,
   "metadata": {},
   "outputs": [
    {
     "name": "stderr",
     "output_type": "stream",
     "text": [
      "/anaconda3/lib/python3.6/site-packages/ipykernel/__main__.py:2: SettingWithCopyWarning: \n",
      "A value is trying to be set on a copy of a slice from a DataFrame.\n",
      "Try using .loc[row_indexer,col_indexer] = value instead\n",
      "\n",
      "See the caveats in the documentation: http://pandas.pydata.org/pandas-docs/stable/indexing.html#indexing-view-versus-copy\n",
      "  from ipykernel import kernelapp as app\n",
      "/anaconda3/lib/python3.6/site-packages/ipykernel/__main__.py:3: SettingWithCopyWarning: \n",
      "A value is trying to be set on a copy of a slice from a DataFrame.\n",
      "Try using .loc[row_indexer,col_indexer] = value instead\n",
      "\n",
      "See the caveats in the documentation: http://pandas.pydata.org/pandas-docs/stable/indexing.html#indexing-view-versus-copy\n",
      "  app.launch_new_instance()\n",
      "/anaconda3/lib/python3.6/site-packages/ipykernel/__main__.py:4: SettingWithCopyWarning: \n",
      "A value is trying to be set on a copy of a slice from a DataFrame.\n",
      "Try using .loc[row_indexer,col_indexer] = value instead\n",
      "\n",
      "See the caveats in the documentation: http://pandas.pydata.org/pandas-docs/stable/indexing.html#indexing-view-versus-copy\n",
      "/anaconda3/lib/python3.6/site-packages/ipykernel/__main__.py:5: SettingWithCopyWarning: \n",
      "A value is trying to be set on a copy of a slice from a DataFrame.\n",
      "Try using .loc[row_indexer,col_indexer] = value instead\n",
      "\n",
      "See the caveats in the documentation: http://pandas.pydata.org/pandas-docs/stable/indexing.html#indexing-view-versus-copy\n",
      "/anaconda3/lib/python3.6/site-packages/ipykernel/__main__.py:6: SettingWithCopyWarning: \n",
      "A value is trying to be set on a copy of a slice from a DataFrame.\n",
      "Try using .loc[row_indexer,col_indexer] = value instead\n",
      "\n",
      "See the caveats in the documentation: http://pandas.pydata.org/pandas-docs/stable/indexing.html#indexing-view-versus-copy\n",
      "/anaconda3/lib/python3.6/site-packages/ipykernel/__main__.py:8: SettingWithCopyWarning: \n",
      "A value is trying to be set on a copy of a slice from a DataFrame.\n",
      "Try using .loc[row_indexer,col_indexer] = value instead\n",
      "\n",
      "See the caveats in the documentation: http://pandas.pydata.org/pandas-docs/stable/indexing.html#indexing-view-versus-copy\n",
      "/anaconda3/lib/python3.6/site-packages/ipykernel/__main__.py:10: SettingWithCopyWarning: \n",
      "A value is trying to be set on a copy of a slice from a DataFrame.\n",
      "Try using .loc[row_indexer,col_indexer] = value instead\n",
      "\n",
      "See the caveats in the documentation: http://pandas.pydata.org/pandas-docs/stable/indexing.html#indexing-view-versus-copy\n",
      "/anaconda3/lib/python3.6/site-packages/ipykernel/__main__.py:11: SettingWithCopyWarning: \n",
      "A value is trying to be set on a copy of a slice from a DataFrame.\n",
      "Try using .loc[row_indexer,col_indexer] = value instead\n",
      "\n",
      "See the caveats in the documentation: http://pandas.pydata.org/pandas-docs/stable/indexing.html#indexing-view-versus-copy\n",
      "/anaconda3/lib/python3.6/site-packages/ipykernel/__main__.py:12: SettingWithCopyWarning: \n",
      "A value is trying to be set on a copy of a slice from a DataFrame.\n",
      "Try using .loc[row_indexer,col_indexer] = value instead\n",
      "\n",
      "See the caveats in the documentation: http://pandas.pydata.org/pandas-docs/stable/indexing.html#indexing-view-versus-copy\n",
      "/anaconda3/lib/python3.6/site-packages/ipykernel/__main__.py:13: SettingWithCopyWarning: \n",
      "A value is trying to be set on a copy of a slice from a DataFrame.\n",
      "Try using .loc[row_indexer,col_indexer] = value instead\n",
      "\n",
      "See the caveats in the documentation: http://pandas.pydata.org/pandas-docs/stable/indexing.html#indexing-view-versus-copy\n",
      "/anaconda3/lib/python3.6/site-packages/ipykernel/__main__.py:14: SettingWithCopyWarning: \n",
      "A value is trying to be set on a copy of a slice from a DataFrame.\n",
      "Try using .loc[row_indexer,col_indexer] = value instead\n",
      "\n",
      "See the caveats in the documentation: http://pandas.pydata.org/pandas-docs/stable/indexing.html#indexing-view-versus-copy\n"
     ]
    }
   ],
   "source": [
    "# Turn all 'PrivacySuppressed' into np.nan and make everyting into floats\n",
    "df4['GRAD_DEBT_MDN'] = df4['GRAD_DEBT_MDN'].apply(lambda x : np.nan if x == 'PrivacySuppressed' else float(x))\n",
    "df4['WDRAW_DEBT_MDN'] = df4['WDRAW_DEBT_MDN'].apply(lambda x : np.nan if x == 'PrivacySuppressed' else float(x))\n",
    "df4['LO_INC_DEBT_MDN'] = df4['LO_INC_DEBT_MDN'].apply(lambda x : np.nan if x == 'PrivacySuppressed' else float(x))\n",
    "df4['MD_INC_DEBT_MDN'] = df4['MD_INC_DEBT_MDN'].apply(lambda x : np.nan if x == 'PrivacySuppressed' else float(x))\n",
    "df4['HI_INC_DEBT_MDN'] = df4['HI_INC_DEBT_MDN'].apply(lambda x : np.nan if x == 'PrivacySuppressed' else float(x))\n",
    "\n",
    "df4['MD_EARN_WNE_P6'] = df4['MD_EARN_WNE_P6'].apply(lambda x : np.nan if x == 'PrivacySuppressed' else float(x))\n",
    "\n",
    "df4['PAR_ED_PCT_MS'] = df4['PAR_ED_PCT_MS'].apply(lambda x : np.nan if x == 'PrivacySuppressed' else float(x))\n",
    "df4['PAR_ED_PCT_HS'] = df4['PAR_ED_PCT_HS'].apply(lambda x : np.nan if x == 'PrivacySuppressed' else float(x))\n",
    "df4['PAR_ED_PCT_PS'] = df4['PAR_ED_PCT_PS'].apply(lambda x : np.nan if x == 'PrivacySuppressed' else float(x))\n",
    "df4['AGE_ENTRY'] = df4['AGE_ENTRY'].apply(lambda x : np.nan if x == 'PrivacySuppressed' else float(x))\n",
    "df4['FEMALE'] = df4['FEMALE'].apply(lambda x : np.nan if x == 'PrivacySuppressed' else float(x))"
   ]
  },
  {
   "cell_type": "code",
   "execution_count": 21,
   "metadata": {},
   "outputs": [
    {
     "name": "stdout",
     "output_type": "stream",
     "text": [
      "<class 'pandas.core.frame.DataFrame'>\n",
      "Int64Index: 2423 entries, 0 to 7387\n",
      "Data columns (total 39 columns):\n",
      "ADM_RATE                  1833 non-null float64\n",
      "SATVRMID                  1266 non-null float64\n",
      "SATMTMID                  1280 non-null float64\n",
      "SATWRMID                  762 non-null float64\n",
      "ACTCMMID                  1294 non-null float64\n",
      "ACTENMID                  1110 non-null float64\n",
      "ACTMTMID                  1109 non-null float64\n",
      "ACTWRMID                  261 non-null float64\n",
      "PCTFLOAN                  2420 non-null float64\n",
      "GRAD_DEBT_MDN             2252 non-null float64\n",
      "WDRAW_DEBT_MDN            2261 non-null float64\n",
      "LO_INC_DEBT_MDN           2259 non-null float64\n",
      "MD_INC_DEBT_MDN           2197 non-null float64\n",
      "HI_INC_DEBT_MDN           2194 non-null float64\n",
      "C150_4                    2423 non-null float64\n",
      "TRANS_4                   2423 non-null float64\n",
      "COSTT4_A                  2376 non-null float64\n",
      "COSTT4_P                  21 non-null float64\n",
      "TUITIONFEE_IN             2376 non-null float64\n",
      "TUITIONFEE_OUT            2376 non-null float64\n",
      "MD_EARN_WNE_P6            2268 non-null float64\n",
      "CONTROL                   2423 non-null int64\n",
      "REGION                    2423 non-null int64\n",
      "TUITFTE                   2423 non-null float64\n",
      "INEXPFTE                  2423 non-null float64\n",
      "AVGFACSAL                 2367 non-null float64\n",
      "PFTFAC                    2242 non-null float64\n",
      "PAR_ED_PCT_MS             1794 non-null float64\n",
      "PAR_ED_PCT_HS             1795 non-null float64\n",
      "PAR_ED_PCT_PS             2255 non-null float64\n",
      "AGE_ENTRY                 2415 non-null float64\n",
      "FEMALE                    2308 non-null float64\n",
      "D_PCTPELL_PCTFLOAN        2423 non-null float64\n",
      "percent_science3          2423 non-null float64\n",
      "percent_social3           2423 non-null float64\n",
      "percent_technical3        2423 non-null float64\n",
      "science_disciplines3      2423 non-null float64\n",
      "social_disciplines3       2423 non-null float64\n",
      "technical_disciplines3    2423 non-null float64\n",
      "dtypes: float64(37), int64(2)\n",
      "memory usage: 757.2 KB\n"
     ]
    }
   ],
   "source": [
    "# Check that all columns in df4 are numeric\n",
    "df4.info()"
   ]
  },
  {
   "cell_type": "markdown",
   "metadata": {},
   "source": [
    "**df5**"
   ]
  },
  {
   "cell_type": "code",
   "execution_count": 22,
   "metadata": {},
   "outputs": [
    {
     "name": "stdout",
     "output_type": "stream",
     "text": [
      "<class 'pandas.core.frame.DataFrame'>\n",
      "Int64Index: 2370 entries, 0 to 7369\n",
      "Data columns (total 40 columns):\n",
      "ADM_RATE                  1815 non-null float64\n",
      "SATVRMID                  1230 non-null float64\n",
      "SATMTMID                  1253 non-null float64\n",
      "SATWRMID                  731 non-null float64\n",
      "ACTCMMID                  1286 non-null float64\n",
      "ACTENMID                  1091 non-null float64\n",
      "ACTMTMID                  1090 non-null float64\n",
      "ACTWRMID                  254 non-null float64\n",
      "PCTFLOAN                  2366 non-null float64\n",
      "GRAD_DEBT_MDN             2347 non-null object\n",
      "WDRAW_DEBT_MDN            2347 non-null object\n",
      "LO_INC_DEBT_MDN           2347 non-null object\n",
      "MD_INC_DEBT_MDN           2347 non-null object\n",
      "HI_INC_DEBT_MDN           2347 non-null object\n",
      "C150_4                    2370 non-null float64\n",
      "TRANS_4                   2370 non-null float64\n",
      "COSTT4_A                  2332 non-null float64\n",
      "COSTT4_P                  15 non-null float64\n",
      "TUITIONFEE_IN             2335 non-null float64\n",
      "TUITIONFEE_OUT            2335 non-null float64\n",
      "MD_EARN_WNE_P6            2344 non-null object\n",
      "CONTROL                   2370 non-null int64\n",
      "REGION                    2370 non-null float64\n",
      "TUITFTE                   2347 non-null float64\n",
      "INEXPFTE                  2347 non-null float64\n",
      "AVGFACSAL                 2335 non-null float64\n",
      "PFTFAC                    2268 non-null float64\n",
      "UG25ABV                   2334 non-null float64\n",
      "PAR_ED_PCT_MS             2369 non-null object\n",
      "PAR_ED_PCT_HS             2369 non-null object\n",
      "PAR_ED_PCT_PS             2369 non-null object\n",
      "AGE_ENTRY                 2369 non-null object\n",
      "FEMALE                    2369 non-null object\n",
      "D_PCTPELL_PCTFLOAN        2369 non-null float64\n",
      "percent_science4          2370 non-null float64\n",
      "percent_social4           2370 non-null float64\n",
      "percent_technical4        2370 non-null float64\n",
      "science_disciplines4      2370 non-null float64\n",
      "social_disciplines4       2370 non-null float64\n",
      "technical_disciplines4    2370 non-null float64\n",
      "dtypes: float64(28), int64(1), object(11)\n",
      "memory usage: 759.1+ KB\n"
     ]
    }
   ],
   "source": [
    "# What columns in df5 need to be changed into numbers?\n",
    "df5.info()"
   ]
  },
  {
   "cell_type": "code",
   "execution_count": 23,
   "metadata": {},
   "outputs": [
    {
     "name": "stderr",
     "output_type": "stream",
     "text": [
      "/anaconda3/lib/python3.6/site-packages/ipykernel/__main__.py:2: SettingWithCopyWarning: \n",
      "A value is trying to be set on a copy of a slice from a DataFrame.\n",
      "Try using .loc[row_indexer,col_indexer] = value instead\n",
      "\n",
      "See the caveats in the documentation: http://pandas.pydata.org/pandas-docs/stable/indexing.html#indexing-view-versus-copy\n",
      "  from ipykernel import kernelapp as app\n",
      "/anaconda3/lib/python3.6/site-packages/ipykernel/__main__.py:3: SettingWithCopyWarning: \n",
      "A value is trying to be set on a copy of a slice from a DataFrame.\n",
      "Try using .loc[row_indexer,col_indexer] = value instead\n",
      "\n",
      "See the caveats in the documentation: http://pandas.pydata.org/pandas-docs/stable/indexing.html#indexing-view-versus-copy\n",
      "  app.launch_new_instance()\n",
      "/anaconda3/lib/python3.6/site-packages/ipykernel/__main__.py:4: SettingWithCopyWarning: \n",
      "A value is trying to be set on a copy of a slice from a DataFrame.\n",
      "Try using .loc[row_indexer,col_indexer] = value instead\n",
      "\n",
      "See the caveats in the documentation: http://pandas.pydata.org/pandas-docs/stable/indexing.html#indexing-view-versus-copy\n",
      "/anaconda3/lib/python3.6/site-packages/ipykernel/__main__.py:5: SettingWithCopyWarning: \n",
      "A value is trying to be set on a copy of a slice from a DataFrame.\n",
      "Try using .loc[row_indexer,col_indexer] = value instead\n",
      "\n",
      "See the caveats in the documentation: http://pandas.pydata.org/pandas-docs/stable/indexing.html#indexing-view-versus-copy\n",
      "/anaconda3/lib/python3.6/site-packages/ipykernel/__main__.py:6: SettingWithCopyWarning: \n",
      "A value is trying to be set on a copy of a slice from a DataFrame.\n",
      "Try using .loc[row_indexer,col_indexer] = value instead\n",
      "\n",
      "See the caveats in the documentation: http://pandas.pydata.org/pandas-docs/stable/indexing.html#indexing-view-versus-copy\n",
      "/anaconda3/lib/python3.6/site-packages/ipykernel/__main__.py:8: SettingWithCopyWarning: \n",
      "A value is trying to be set on a copy of a slice from a DataFrame.\n",
      "Try using .loc[row_indexer,col_indexer] = value instead\n",
      "\n",
      "See the caveats in the documentation: http://pandas.pydata.org/pandas-docs/stable/indexing.html#indexing-view-versus-copy\n",
      "/anaconda3/lib/python3.6/site-packages/ipykernel/__main__.py:10: SettingWithCopyWarning: \n",
      "A value is trying to be set on a copy of a slice from a DataFrame.\n",
      "Try using .loc[row_indexer,col_indexer] = value instead\n",
      "\n",
      "See the caveats in the documentation: http://pandas.pydata.org/pandas-docs/stable/indexing.html#indexing-view-versus-copy\n",
      "/anaconda3/lib/python3.6/site-packages/ipykernel/__main__.py:11: SettingWithCopyWarning: \n",
      "A value is trying to be set on a copy of a slice from a DataFrame.\n",
      "Try using .loc[row_indexer,col_indexer] = value instead\n",
      "\n",
      "See the caveats in the documentation: http://pandas.pydata.org/pandas-docs/stable/indexing.html#indexing-view-versus-copy\n",
      "/anaconda3/lib/python3.6/site-packages/ipykernel/__main__.py:12: SettingWithCopyWarning: \n",
      "A value is trying to be set on a copy of a slice from a DataFrame.\n",
      "Try using .loc[row_indexer,col_indexer] = value instead\n",
      "\n",
      "See the caveats in the documentation: http://pandas.pydata.org/pandas-docs/stable/indexing.html#indexing-view-versus-copy\n",
      "/anaconda3/lib/python3.6/site-packages/ipykernel/__main__.py:13: SettingWithCopyWarning: \n",
      "A value is trying to be set on a copy of a slice from a DataFrame.\n",
      "Try using .loc[row_indexer,col_indexer] = value instead\n",
      "\n",
      "See the caveats in the documentation: http://pandas.pydata.org/pandas-docs/stable/indexing.html#indexing-view-versus-copy\n",
      "/anaconda3/lib/python3.6/site-packages/ipykernel/__main__.py:14: SettingWithCopyWarning: \n",
      "A value is trying to be set on a copy of a slice from a DataFrame.\n",
      "Try using .loc[row_indexer,col_indexer] = value instead\n",
      "\n",
      "See the caveats in the documentation: http://pandas.pydata.org/pandas-docs/stable/indexing.html#indexing-view-versus-copy\n"
     ]
    }
   ],
   "source": [
    "# Turn all 'PrivacySuppressed' into np.nan and make everyting into floats\n",
    "df5['GRAD_DEBT_MDN'] = df5['GRAD_DEBT_MDN'].apply(lambda x : np.nan if x == 'PrivacySuppressed' else float(x))\n",
    "df5['WDRAW_DEBT_MDN'] = df5['WDRAW_DEBT_MDN'].apply(lambda x : np.nan if x == 'PrivacySuppressed' else float(x))\n",
    "df5['LO_INC_DEBT_MDN'] = df5['LO_INC_DEBT_MDN'].apply(lambda x : np.nan if x == 'PrivacySuppressed' else float(x))\n",
    "df5['MD_INC_DEBT_MDN'] = df5['MD_INC_DEBT_MDN'].apply(lambda x : np.nan if x == 'PrivacySuppressed' else float(x))\n",
    "df5['HI_INC_DEBT_MDN'] = df5['HI_INC_DEBT_MDN'].apply(lambda x : np.nan if x == 'PrivacySuppressed' else float(x))\n",
    "\n",
    "df5['MD_EARN_WNE_P6'] = df5['MD_EARN_WNE_P6'].apply(lambda x : np.nan if x == 'PrivacySuppressed' else float(x))\n",
    "\n",
    "df5['PAR_ED_PCT_MS'] = df5['PAR_ED_PCT_MS'].apply(lambda x : np.nan if x == 'PrivacySuppressed' else float(x))\n",
    "df5['PAR_ED_PCT_HS'] = df5['PAR_ED_PCT_HS'].apply(lambda x : np.nan if x == 'PrivacySuppressed' else float(x))\n",
    "df5['PAR_ED_PCT_PS'] = df5['PAR_ED_PCT_PS'].apply(lambda x : np.nan if x == 'PrivacySuppressed' else float(x))\n",
    "df5['AGE_ENTRY'] = df5['AGE_ENTRY'].apply(lambda x : np.nan if x == 'PrivacySuppressed' else float(x))\n",
    "df5['FEMALE'] = df5['FEMALE'].apply(lambda x : np.nan if x == 'PrivacySuppressed' else float(x))"
   ]
  },
  {
   "cell_type": "code",
   "execution_count": 24,
   "metadata": {},
   "outputs": [
    {
     "name": "stdout",
     "output_type": "stream",
     "text": [
      "<class 'pandas.core.frame.DataFrame'>\n",
      "Int64Index: 2370 entries, 0 to 7369\n",
      "Data columns (total 40 columns):\n",
      "ADM_RATE                  1815 non-null float64\n",
      "SATVRMID                  1230 non-null float64\n",
      "SATMTMID                  1253 non-null float64\n",
      "SATWRMID                  731 non-null float64\n",
      "ACTCMMID                  1286 non-null float64\n",
      "ACTENMID                  1091 non-null float64\n",
      "ACTMTMID                  1090 non-null float64\n",
      "ACTWRMID                  254 non-null float64\n",
      "PCTFLOAN                  2366 non-null float64\n",
      "GRAD_DEBT_MDN             2203 non-null float64\n",
      "WDRAW_DEBT_MDN            2203 non-null float64\n",
      "LO_INC_DEBT_MDN           2213 non-null float64\n",
      "MD_INC_DEBT_MDN           2144 non-null float64\n",
      "HI_INC_DEBT_MDN           2145 non-null float64\n",
      "C150_4                    2370 non-null float64\n",
      "TRANS_4                   2370 non-null float64\n",
      "COSTT4_A                  2332 non-null float64\n",
      "COSTT4_P                  15 non-null float64\n",
      "TUITIONFEE_IN             2335 non-null float64\n",
      "TUITIONFEE_OUT            2335 non-null float64\n",
      "MD_EARN_WNE_P6            2219 non-null float64\n",
      "CONTROL                   2370 non-null int64\n",
      "REGION                    2370 non-null float64\n",
      "TUITFTE                   2347 non-null float64\n",
      "INEXPFTE                  2347 non-null float64\n",
      "AVGFACSAL                 2335 non-null float64\n",
      "PFTFAC                    2268 non-null float64\n",
      "UG25ABV                   2334 non-null float64\n",
      "PAR_ED_PCT_MS             1780 non-null float64\n",
      "PAR_ED_PCT_HS             1780 non-null float64\n",
      "PAR_ED_PCT_PS             2210 non-null float64\n",
      "AGE_ENTRY                 2360 non-null float64\n",
      "FEMALE                    2262 non-null float64\n",
      "D_PCTPELL_PCTFLOAN        2369 non-null float64\n",
      "percent_science4          2370 non-null float64\n",
      "percent_social4           2370 non-null float64\n",
      "percent_technical4        2370 non-null float64\n",
      "science_disciplines4      2370 non-null float64\n",
      "social_disciplines4       2370 non-null float64\n",
      "technical_disciplines4    2370 non-null float64\n",
      "dtypes: float64(39), int64(1)\n",
      "memory usage: 759.1 KB\n"
     ]
    }
   ],
   "source": [
    "# Check that all columns in df5 are numeric\n",
    "df5.info()"
   ]
  },
  {
   "cell_type": "code",
   "execution_count": 25,
   "metadata": {},
   "outputs": [
    {
     "name": "stderr",
     "output_type": "stream",
     "text": [
      "/anaconda3/lib/python3.6/site-packages/ipykernel/__main__.py:2: SettingWithCopyWarning: \n",
      "A value is trying to be set on a copy of a slice from a DataFrame\n",
      "\n",
      "See the caveats in the documentation: http://pandas.pydata.org/pandas-docs/stable/indexing.html#indexing-view-versus-copy\n",
      "  from ipykernel import kernelapp as app\n",
      "/anaconda3/lib/python3.6/site-packages/ipykernel/__main__.py:3: SettingWithCopyWarning: \n",
      "A value is trying to be set on a copy of a slice from a DataFrame\n",
      "\n",
      "See the caveats in the documentation: http://pandas.pydata.org/pandas-docs/stable/indexing.html#indexing-view-versus-copy\n",
      "  app.launch_new_instance()\n",
      "/anaconda3/lib/python3.6/site-packages/ipykernel/__main__.py:4: SettingWithCopyWarning: \n",
      "A value is trying to be set on a copy of a slice from a DataFrame\n",
      "\n",
      "See the caveats in the documentation: http://pandas.pydata.org/pandas-docs/stable/indexing.html#indexing-view-versus-copy\n",
      "/anaconda3/lib/python3.6/site-packages/ipykernel/__main__.py:5: SettingWithCopyWarning: \n",
      "A value is trying to be set on a copy of a slice from a DataFrame\n",
      "\n",
      "See the caveats in the documentation: http://pandas.pydata.org/pandas-docs/stable/indexing.html#indexing-view-versus-copy\n",
      "/anaconda3/lib/python3.6/site-packages/ipykernel/__main__.py:6: SettingWithCopyWarning: \n",
      "A value is trying to be set on a copy of a slice from a DataFrame\n",
      "\n",
      "See the caveats in the documentation: http://pandas.pydata.org/pandas-docs/stable/indexing.html#indexing-view-versus-copy\n"
     ]
    }
   ],
   "source": [
    "# drop columns with more than 10% nans\n",
    "df1.dropna(thresh=len(df1)-len(df1)/10, axis=1, inplace=True)\n",
    "df2.dropna(thresh=len(df2)-len(df2)/10, axis=1, inplace=True)\n",
    "df3.dropna(thresh=len(df3)-len(df3)/10, axis=1, inplace=True)\n",
    "df4.dropna(thresh=len(df4)-len(df4)/10, axis=1, inplace=True)\n",
    "df5.dropna(thresh=len(df5)-len(df5)/10, axis=1, inplace=True)"
   ]
  },
  {
   "cell_type": "code",
   "execution_count": 26,
   "metadata": {
    "collapsed": true
   },
   "outputs": [],
   "source": [
    "# imputing function, takes a list of 5 dfs as argument\n",
    "def mice_impute(list_of_dfs):\n",
    "    finished_dfs = []\n",
    "    for df in list_of_dfs:\n",
    "        mice = MICE(verbose=False)\n",
    "        df = pd.DataFrame(mice.complete(df), columns=df.columns)\n",
    "        finished_dfs.append(df)\n",
    "        \n",
    "    return finished_dfs[0], finished_dfs[1], finished_dfs[2], finished_dfs[3], finished_dfs[4]"
   ]
  },
  {
   "cell_type": "code",
   "execution_count": 27,
   "metadata": {
    "collapsed": true
   },
   "outputs": [],
   "source": [
    "# impute values\n",
    "list_of_dfs = [df1, df2, df3, df4, df5]\n",
    "df1, df2, df3, df4, df5 = mice_impute(list_of_dfs)"
   ]
  },
  {
   "cell_type": "code",
   "execution_count": 28,
   "metadata": {},
   "outputs": [
    {
     "name": "stdout",
     "output_type": "stream",
     "text": [
      "(2489, 28)\n",
      "(2481, 27)\n",
      "(2448, 29)\n",
      "(2423, 28)\n",
      "(2370, 29)\n"
     ]
    }
   ],
   "source": [
    "print(df1.shape)\n",
    "print(df2.shape)\n",
    "print(df3.shape)\n",
    "print(df4.shape)\n",
    "print(df5.shape)"
   ]
  },
  {
   "cell_type": "code",
   "execution_count": 29,
   "metadata": {},
   "outputs": [
    {
     "data": {
      "text/plain": [
       "{'AGE_ENTRY',\n",
       " 'AVGFACSAL',\n",
       " 'C150_4',\n",
       " 'CONTROL',\n",
       " 'COSTT4_A',\n",
       " 'D_PCTPELL_PCTFLOAN',\n",
       " 'FEMALE',\n",
       " 'GRAD_DEBT_MDN',\n",
       " 'HI_INC_DEBT_MDN',\n",
       " 'INEXPFTE',\n",
       " 'LO_INC_DEBT_MDN',\n",
       " 'PAR_ED_PCT_PS',\n",
       " 'PCTFLOAN',\n",
       " 'PFTFAC',\n",
       " 'REGION',\n",
       " 'TRANS_4',\n",
       " 'TUITFTE',\n",
       " 'TUITIONFEE_IN',\n",
       " 'TUITIONFEE_OUT',\n",
       " 'WDRAW_DEBT_MDN'}"
      ]
     },
     "execution_count": 29,
     "metadata": {},
     "output_type": "execute_result"
    }
   ],
   "source": [
    "one = set(df1.columns.values)\n",
    "two = set(df2.columns.values)\n",
    "tree = set(df3.columns.values)\n",
    "four = set(df4.columns.values)\n",
    "five = set(df5.columns.values)\n",
    "\n",
    "# columns that are the same in all 5 data frames\n",
    "one & two & tree & four & five"
   ]
  },
  {
   "cell_type": "code",
   "execution_count": 30,
   "metadata": {
    "collapsed": true
   },
   "outputs": [],
   "source": [
    "# make lists of columns in each df\n",
    "one = set(df1.columns.values)\n",
    "two = set(df2.columns.values)\n",
    "three = set(df3.columns.values)\n",
    "four = set(df4.columns.values)\n",
    "five = set(df5.columns.values)\n",
    "\n",
    "# make one list of columns that are in all dfs\n",
    "final_vars = []\n",
    "for i in one:\n",
    "    if i in two and i in three and i in four and i in five:\n",
    "        final_vars.append(i)\n",
    "\n",
    "# mask all dfs to final_vars list        \n",
    "df1 = df1[final_vars]\n",
    "df2 = df2[final_vars]\n",
    "df3 = df3[final_vars]\n",
    "df4 = df4[final_vars]\n",
    "df5 = df5[final_vars]\n",
    "\n",
    "# concat all dfs\n",
    "one_big_df = pd.concat([df1, df2, df3, df4, df5], axis=1)\n",
    "\n",
    "# average values into one df\n",
    "final_df = pd.DataFrame()\n",
    "for i in final_vars:\n",
    "    final_df[i] = one_big_df[i].mean(axis=1)"
   ]
  },
  {
   "cell_type": "code",
   "execution_count": 31,
   "metadata": {},
   "outputs": [
    {
     "data": {
      "text/html": [
       "<div>\n",
       "<style>\n",
       "    .dataframe thead tr:only-child th {\n",
       "        text-align: right;\n",
       "    }\n",
       "\n",
       "    .dataframe thead th {\n",
       "        text-align: left;\n",
       "    }\n",
       "\n",
       "    .dataframe tbody tr th {\n",
       "        vertical-align: top;\n",
       "    }\n",
       "</style>\n",
       "<table border=\"1\" class=\"dataframe\">\n",
       "  <thead>\n",
       "    <tr style=\"text-align: right;\">\n",
       "      <th></th>\n",
       "      <th>GRAD_DEBT_MDN</th>\n",
       "      <th>INEXPFTE</th>\n",
       "      <th>COSTT4_A</th>\n",
       "      <th>FEMALE</th>\n",
       "      <th>D_PCTPELL_PCTFLOAN</th>\n",
       "      <th>PAR_ED_PCT_PS</th>\n",
       "      <th>LO_INC_DEBT_MDN</th>\n",
       "      <th>TUITIONFEE_IN</th>\n",
       "      <th>PFTFAC</th>\n",
       "      <th>PCTFLOAN</th>\n",
       "      <th>HI_INC_DEBT_MDN</th>\n",
       "      <th>TRANS_4</th>\n",
       "      <th>REGION</th>\n",
       "      <th>CONTROL</th>\n",
       "      <th>TUITIONFEE_OUT</th>\n",
       "      <th>AVGFACSAL</th>\n",
       "      <th>AGE_ENTRY</th>\n",
       "      <th>WDRAW_DEBT_MDN</th>\n",
       "      <th>TUITFTE</th>\n",
       "      <th>C150_4</th>\n",
       "    </tr>\n",
       "  </thead>\n",
       "  <tbody>\n",
       "    <tr>\n",
       "      <th>0</th>\n",
       "      <td>31123.6</td>\n",
       "      <td>7637.8</td>\n",
       "      <td>18697.6</td>\n",
       "      <td>0.523263</td>\n",
       "      <td>4331.2</td>\n",
       "      <td>0.617130</td>\n",
       "      <td>13108.1</td>\n",
       "      <td>7930.8</td>\n",
       "      <td>0.80250</td>\n",
       "      <td>0.80970</td>\n",
       "      <td>14545.000000</td>\n",
       "      <td>0.124920</td>\n",
       "      <td>5.0</td>\n",
       "      <td>1.0</td>\n",
       "      <td>14287.2</td>\n",
       "      <td>6825.2</td>\n",
       "      <td>20.588594</td>\n",
       "      <td>9700.0</td>\n",
       "      <td>7799.0</td>\n",
       "      <td>0.31826</td>\n",
       "    </tr>\n",
       "    <tr>\n",
       "      <th>1</th>\n",
       "      <td>20303.5</td>\n",
       "      <td>17284.0</td>\n",
       "      <td>20566.2</td>\n",
       "      <td>0.627327</td>\n",
       "      <td>11333.6</td>\n",
       "      <td>0.652870</td>\n",
       "      <td>13028.0</td>\n",
       "      <td>7108.8</td>\n",
       "      <td>0.91182</td>\n",
       "      <td>0.53426</td>\n",
       "      <td>12128.300000</td>\n",
       "      <td>0.258461</td>\n",
       "      <td>5.0</td>\n",
       "      <td>1.0</td>\n",
       "      <td>16166.4</td>\n",
       "      <td>9883.6</td>\n",
       "      <td>23.479992</td>\n",
       "      <td>8486.3</td>\n",
       "      <td>8933.0</td>\n",
       "      <td>0.51340</td>\n",
       "    </tr>\n",
       "    <tr>\n",
       "      <th>2</th>\n",
       "      <td>21681.9</td>\n",
       "      <td>5390.0</td>\n",
       "      <td>12752.6</td>\n",
       "      <td>0.632368</td>\n",
       "      <td>325.0</td>\n",
       "      <td>0.462482</td>\n",
       "      <td>7352.4</td>\n",
       "      <td>7238.0</td>\n",
       "      <td>0.71230</td>\n",
       "      <td>0.82598</td>\n",
       "      <td>12661.294403</td>\n",
       "      <td>0.080000</td>\n",
       "      <td>5.0</td>\n",
       "      <td>2.0</td>\n",
       "      <td>7238.0</td>\n",
       "      <td>3526.2</td>\n",
       "      <td>33.570714</td>\n",
       "      <td>7248.6</td>\n",
       "      <td>13107.2</td>\n",
       "      <td>0.30778</td>\n",
       "    </tr>\n",
       "    <tr>\n",
       "      <th>3</th>\n",
       "      <td>22338.2</td>\n",
       "      <td>9817.8</td>\n",
       "      <td>20234.2</td>\n",
       "      <td>0.486289</td>\n",
       "      <td>5827.2</td>\n",
       "      <td>0.676286</td>\n",
       "      <td>14210.9</td>\n",
       "      <td>8873.2</td>\n",
       "      <td>0.67506</td>\n",
       "      <td>0.46958</td>\n",
       "      <td>12392.800000</td>\n",
       "      <td>0.326892</td>\n",
       "      <td>5.0</td>\n",
       "      <td>1.0</td>\n",
       "      <td>20778.4</td>\n",
       "      <td>9112.4</td>\n",
       "      <td>23.748793</td>\n",
       "      <td>8213.9</td>\n",
       "      <td>8291.4</td>\n",
       "      <td>0.47306</td>\n",
       "    </tr>\n",
       "    <tr>\n",
       "      <th>4</th>\n",
       "      <td>31375.9</td>\n",
       "      <td>7686.8</td>\n",
       "      <td>17440.6</td>\n",
       "      <td>0.590720</td>\n",
       "      <td>4983.2</td>\n",
       "      <td>0.608273</td>\n",
       "      <td>11871.1</td>\n",
       "      <td>8434.8</td>\n",
       "      <td>0.64122</td>\n",
       "      <td>0.79664</td>\n",
       "      <td>12723.400000</td>\n",
       "      <td>0.000000</td>\n",
       "      <td>5.0</td>\n",
       "      <td>1.0</td>\n",
       "      <td>15121.2</td>\n",
       "      <td>6861.6</td>\n",
       "      <td>20.662727</td>\n",
       "      <td>9956.7</td>\n",
       "      <td>7656.0</td>\n",
       "      <td>0.26202</td>\n",
       "    </tr>\n",
       "  </tbody>\n",
       "</table>\n",
       "</div>"
      ],
      "text/plain": [
       "   GRAD_DEBT_MDN  INEXPFTE  COSTT4_A    FEMALE  D_PCTPELL_PCTFLOAN  \\\n",
       "0        31123.6    7637.8   18697.6  0.523263              4331.2   \n",
       "1        20303.5   17284.0   20566.2  0.627327             11333.6   \n",
       "2        21681.9    5390.0   12752.6  0.632368               325.0   \n",
       "3        22338.2    9817.8   20234.2  0.486289              5827.2   \n",
       "4        31375.9    7686.8   17440.6  0.590720              4983.2   \n",
       "\n",
       "   PAR_ED_PCT_PS  LO_INC_DEBT_MDN  TUITIONFEE_IN   PFTFAC  PCTFLOAN  \\\n",
       "0       0.617130          13108.1         7930.8  0.80250   0.80970   \n",
       "1       0.652870          13028.0         7108.8  0.91182   0.53426   \n",
       "2       0.462482           7352.4         7238.0  0.71230   0.82598   \n",
       "3       0.676286          14210.9         8873.2  0.67506   0.46958   \n",
       "4       0.608273          11871.1         8434.8  0.64122   0.79664   \n",
       "\n",
       "   HI_INC_DEBT_MDN   TRANS_4  REGION  CONTROL  TUITIONFEE_OUT  AVGFACSAL  \\\n",
       "0     14545.000000  0.124920     5.0      1.0         14287.2     6825.2   \n",
       "1     12128.300000  0.258461     5.0      1.0         16166.4     9883.6   \n",
       "2     12661.294403  0.080000     5.0      2.0          7238.0     3526.2   \n",
       "3     12392.800000  0.326892     5.0      1.0         20778.4     9112.4   \n",
       "4     12723.400000  0.000000     5.0      1.0         15121.2     6861.6   \n",
       "\n",
       "   AGE_ENTRY  WDRAW_DEBT_MDN  TUITFTE   C150_4  \n",
       "0  20.588594          9700.0   7799.0  0.31826  \n",
       "1  23.479992          8486.3   8933.0  0.51340  \n",
       "2  33.570714          7248.6  13107.2  0.30778  \n",
       "3  23.748793          8213.9   8291.4  0.47306  \n",
       "4  20.662727          9956.7   7656.0  0.26202  "
      ]
     },
     "execution_count": 31,
     "metadata": {},
     "output_type": "execute_result"
    }
   ],
   "source": [
    "final_df.head()"
   ]
  },
  {
   "cell_type": "code",
   "execution_count": 32,
   "metadata": {},
   "outputs": [
    {
     "name": "stdout",
     "output_type": "stream",
     "text": [
      "<class 'pandas.core.frame.DataFrame'>\n",
      "RangeIndex: 2489 entries, 0 to 2488\n",
      "Data columns (total 20 columns):\n",
      "GRAD_DEBT_MDN         2489 non-null float64\n",
      "INEXPFTE              2489 non-null float64\n",
      "COSTT4_A              2489 non-null float64\n",
      "FEMALE                2489 non-null float64\n",
      "D_PCTPELL_PCTFLOAN    2489 non-null float64\n",
      "PAR_ED_PCT_PS         2489 non-null float64\n",
      "LO_INC_DEBT_MDN       2489 non-null float64\n",
      "TUITIONFEE_IN         2489 non-null float64\n",
      "PFTFAC                2489 non-null float64\n",
      "PCTFLOAN              2489 non-null float64\n",
      "HI_INC_DEBT_MDN       2489 non-null float64\n",
      "TRANS_4               2489 non-null float64\n",
      "REGION                2489 non-null float64\n",
      "CONTROL               2489 non-null float64\n",
      "TUITIONFEE_OUT        2489 non-null float64\n",
      "AVGFACSAL             2489 non-null float64\n",
      "AGE_ENTRY             2489 non-null float64\n",
      "WDRAW_DEBT_MDN        2489 non-null float64\n",
      "TUITFTE               2489 non-null float64\n",
      "C150_4                2489 non-null float64\n",
      "dtypes: float64(20)\n",
      "memory usage: 389.0 KB\n"
     ]
    }
   ],
   "source": [
    "final_df.info()"
   ]
  },
  {
   "cell_type": "markdown",
   "metadata": {},
   "source": [
    "### Random Forest"
   ]
  },
  {
   "cell_type": "code",
   "execution_count": 38,
   "metadata": {
    "collapsed": true
   },
   "outputs": [],
   "source": [
    "# Declair X and y\n",
    "X = final_df.drop(['C150_4'], axis=1)\n",
    "y = final_df['C150_4']"
   ]
  },
  {
   "cell_type": "code",
   "execution_count": 39,
   "metadata": {
    "collapsed": true
   },
   "outputs": [],
   "source": [
    "# train_test_split\n",
    "indep_train, indep_test, dep_train, dep_test = train_test_split(X, y, test_size = 0.3, random_state=42)"
   ]
  },
  {
   "cell_type": "markdown",
   "metadata": {},
   "source": [
    "**ALL VARIABLES**"
   ]
  },
  {
   "cell_type": "code",
   "execution_count": 40,
   "metadata": {
    "collapsed": true
   },
   "outputs": [],
   "source": [
    "# X and y in training and test\n",
    "cols = ['LO_INC_DEBT_MDN', 'AVGFACSAL', 'HI_INC_DEBT_MDN', 'TRANS_4', 'INEXPFTE', 'TUITIONFEE_OUT', 'REGION',\n",
    "             'FEMALE', 'D_PCTPELL_PCTFLOAN', 'AGE_ENTRY', 'PFTFAC', 'PAR_ED_PCT_PS', 'TUITFTE', 'PCTFLOAN',\n",
    "              'WDRAW_DEBT_MDN', 'TUITIONFEE_IN', 'COSTT4_A', 'CONTROL']\n",
    "\n",
    "X_train = indep_train[cols]\n",
    "X_test = indep_test[cols]\n",
    "y_train = dep_train\n",
    "y_test = dep_test"
   ]
  },
  {
   "cell_type": "code",
   "execution_count": 41,
   "metadata": {},
   "outputs": [
    {
     "name": "stdout",
     "output_type": "stream",
     "text": [
      "{'max_depth': 8, 'max_features': 'sqrt', 'n_estimators': 9, 'verbose': 0}\n"
     ]
    }
   ],
   "source": [
    "# GridSearchCV - best hyperparameter\n",
    "grid = {'n_estimators': np.arange(1, 10),\n",
    "        'max_depth': np.arange(1, 10),\n",
    "        'max_features' : ('auto', 'sqrt', 'log2', None),\n",
    "        'verbose' : np.arange(0, 1)}\n",
    "\n",
    "rfr = RandomForestRegressor(random_state=42)\n",
    "gs = GridSearchCV(rfr, grid)\n",
    "\n",
    "gs.fit(X_train, y_train)\n",
    "\n",
    "print(gs.best_params_)"
   ]
  },
  {
   "cell_type": "code",
   "execution_count": 44,
   "metadata": {
    "collapsed": true
   },
   "outputs": [],
   "source": [
    "# RF model (best hyperparameter)\n",
    "rf = RandomForestRegressor(max_depth=8, max_features='sqrt', n_estimators=9, verbose=0, random_state=42)"
   ]
  },
  {
   "cell_type": "code",
   "execution_count": 45,
   "metadata": {},
   "outputs": [
    {
     "data": {
      "text/plain": [
       "RandomForestRegressor(bootstrap=True, criterion='mse', max_depth=8,\n",
       "           max_features='sqrt', max_leaf_nodes=None,\n",
       "           min_impurity_decrease=0.0, min_impurity_split=None,\n",
       "           min_samples_leaf=1, min_samples_split=2,\n",
       "           min_weight_fraction_leaf=0.0, n_estimators=9, n_jobs=1,\n",
       "           oob_score=False, random_state=42, verbose=0, warm_start=False)"
      ]
     },
     "execution_count": 45,
     "metadata": {},
     "output_type": "execute_result"
    }
   ],
   "source": [
    "# fit\n",
    "rf.fit(X_train, y_train)"
   ]
  },
  {
   "cell_type": "markdown",
   "metadata": {},
   "source": [
    "**Look at the feature importance (based on all columns used)**\n",
    "`pd.Series(dict(zip(X_train.columns,rf.feature_importances_))).abs().sort_values(ascending=False).head(20)`"
   ]
  },
  {
   "cell_type": "markdown",
   "metadata": {},
   "source": [
    "PAR_ED_PCT_PS         \n",
    "0.190794 \n",
    "\n",
    "TUITIONFEE_OUT      \n",
    "0.152227 \n",
    "\n",
    "COSTT4_A               \n",
    "0.133741 \n",
    "\n",
    "INEXPFTE               \n",
    "0.088357 \n",
    "\n",
    "AVGFACSAL             \n",
    "0.072202 \n",
    "\n",
    "HI_INC_DEBT_MDN       \n",
    "0.061467\n",
    "\n",
    "LO_INC_DEBT_MDN        \n",
    "0.052891 \n",
    "\n",
    "PFTFAC                 \n",
    "0.043437 \n",
    "\n",
    "TUITIONFEE_IN          \n",
    "0.029650\n",
    "\n",
    "PCTFLOAN               \n",
    "0.029102 \n",
    "\n",
    "D_PCTPELL_PCTFLOAN     \n",
    "0.028778 \n",
    "\n",
    "AGE_ENTRY              \n",
    "0.028578 \n",
    "\n",
    "TRANS_4              \n",
    "0.022499 \n",
    "\n",
    "TUITFTE                \n",
    "0.018795 \n",
    "\n",
    "WDRAW_DEBT_MDN         \n",
    "0.017490\n",
    "\n",
    "CONTROL                \n",
    "0.014862\n",
    "\n",
    "FEMALE                \n",
    "0.009954\n",
    "\n",
    "REGION                \n",
    "0.005177\n",
    "\n",
    "dtype: float64"
   ]
  },
  {
   "cell_type": "code",
   "execution_count": 53,
   "metadata": {},
   "outputs": [
    {
     "data": {
      "text/plain": [
       "0.479440311887092"
      ]
     },
     "execution_count": 53,
     "metadata": {},
     "output_type": "execute_result"
    }
   ],
   "source": [
    "# predict\n",
    "pred = cross_val_predict(rf, X_test, y_test)\n",
    "pred.mean()"
   ]
  },
  {
   "cell_type": "code",
   "execution_count": 120,
   "metadata": {},
   "outputs": [
    {
     "data": {
      "text/plain": [
       "0.6027790994901341"
      ]
     },
     "execution_count": 120,
     "metadata": {},
     "output_type": "execute_result"
    }
   ],
   "source": [
    "# score\n",
    "scores = cross_val_score(rf, X_test, y_test, cv=4)\n",
    "scores.mean()"
   ]
  },
  {
   "cell_type": "code",
   "execution_count": 118,
   "metadata": {},
   "outputs": [
    {
     "name": "stdout",
     "output_type": "stream",
     "text": [
      "0.5865145967668695\n",
      "0.5972797506813713\n",
      "0.6027790994901341\n",
      "0.5902331926084156\n",
      "0.5804946606192912\n",
      "0.6020771261095683\n",
      "0.5741955100927731\n",
      "0.5783184822673095\n",
      "0.5981818292860475\n"
     ]
    }
   ],
   "source": [
    "# what is best cv to use (after you run this cell, take best cv-value and re-run cell above)\n",
    "cv_list = [2,3,4,5,6,7,8,9,10]\n",
    "\n",
    "for cv in cv_list:\n",
    "    scores = cross_val_score(rf, X_test, y_test, cv=cv)\n",
    "    print(scores.mean())"
   ]
  },
  {
   "cell_type": "code",
   "execution_count": 55,
   "metadata": {
    "collapsed": true
   },
   "outputs": [],
   "source": [
    "# Get y_pred and y_true for plotting\n",
    "y_pred = rf.predict(X_test)\n",
    "y_true = y_test"
   ]
  },
  {
   "cell_type": "code",
   "execution_count": 63,
   "metadata": {},
   "outputs": [
    {
     "data": {
      "image/png": "[encoded data removed]",
      "text/plain": [
       "<matplotlib.figure.Figure at 0x1a4af50e80>"
      ]
     },
     "metadata": {},
     "output_type": "display_data"
    }
   ],
   "source": [
    "# scatter plot in pyplot\n",
    "plt.figure(figsize=(12, 8))\n",
    "plt.scatter(y_pred, y_true)\n",
    "\n",
    "plt.xlabel('y predicted')\n",
    "plt.ylabel('y true')\n",
    "plt.title('How did we do?')\n",
    " \n",
    "plt.show()"
   ]
  },
  {
   "cell_type": "code",
   "execution_count": 134,
   "metadata": {},
   "outputs": [
    {
     "data": {
      "image/png": "[encoded data removed]",
      "text/plain": [
       "<matplotlib.figure.Figure at 0x1a5c2e3748>"
      ]
     },
     "metadata": {},
     "output_type": "display_data"
    }
   ],
   "source": [
    "# another scatter plot in pyplot\n",
    "plt.figure(figsize=(9,6))\n",
    "plt.scatter(y_pred, y_true)\n",
    "plt.plot([0,0.8],[0,0.8], c='r')\n",
    "plt.title('Predictions vs. Actuals', fontsize=18)\n",
    "plt.xlabel('Predicted Values', fontsize=14)\n",
    "plt.ylabel('Actual Values', fontsize=14);"
   ]
  },
  {
   "cell_type": "code",
   "execution_count": 72,
   "metadata": {},
   "outputs": [
    {
     "data": {
      "image/png": "[encoded data removed]",
      "text/plain": [
       "<matplotlib.figure.Figure at 0x1a5bdd8ef0>"
      ]
     },
     "metadata": {},
     "output_type": "display_data"
    }
   ],
   "source": [
    "# scatter plot in Seaborn\n",
    "x, y = pd.Series(y_pred, name=\"y predicted\"), pd.Series(y_true, name=\"y true\")\n",
    "fig = plt.subplots(figsize=(12,8))\n",
    "ax = sns.regplot(x=x, y=y, color=\"g\", ci=95)"
   ]
  },
  {
   "cell_type": "markdown",
   "metadata": {},
   "source": [
    "**Model with 3 most important features**"
   ]
  },
  {
   "cell_type": "code",
   "execution_count": 86,
   "metadata": {
    "collapsed": true
   },
   "outputs": [],
   "source": [
    "# X and y in training and test\n",
    "cols = ['PAR_ED_PCT_PS', 'TUITIONFEE_OUT', 'COSTT4_A']\n",
    "\n",
    "X_train2 = indep_train[cols]\n",
    "X_test2 = indep_test[cols]\n",
    "y_train2 = dep_train\n",
    "y_test2 = dep_test"
   ]
  },
  {
   "cell_type": "code",
   "execution_count": 87,
   "metadata": {},
   "outputs": [
    {
     "name": "stdout",
     "output_type": "stream",
     "text": [
      "{'max_depth': 6, 'max_features': 'sqrt', 'n_estimators': 9, 'verbose': 0}\n"
     ]
    }
   ],
   "source": [
    "# GridSearchCV - best hyperparameter\n",
    "grid = {'n_estimators': np.arange(1, 10),\n",
    "        'max_depth': np.arange(1, 10),\n",
    "        'max_features' : ('auto', 'sqrt', 'log2', None),\n",
    "        'verbose' : np.arange(0, 1)}\n",
    "\n",
    "rfr2 = RandomForestRegressor(random_state=42)\n",
    "gs = GridSearchCV(rfr2, grid)\n",
    "\n",
    "gs.fit(X_train2, y_train2)\n",
    "\n",
    "print(gs.best_params_)"
   ]
  },
  {
   "cell_type": "code",
   "execution_count": 88,
   "metadata": {
    "collapsed": true
   },
   "outputs": [],
   "source": [
    "# RF model (best hyperparameter)\n",
    "rf2 = RandomForestRegressor(max_depth=6, max_features='sqrt', n_estimators=9, verbose=0, random_state=42)"
   ]
  },
  {
   "cell_type": "code",
   "execution_count": 89,
   "metadata": {},
   "outputs": [
    {
     "data": {
      "text/plain": [
       "RandomForestRegressor(bootstrap=True, criterion='mse', max_depth=6,\n",
       "           max_features='sqrt', max_leaf_nodes=None,\n",
       "           min_impurity_decrease=0.0, min_impurity_split=None,\n",
       "           min_samples_leaf=1, min_samples_split=2,\n",
       "           min_weight_fraction_leaf=0.0, n_estimators=9, n_jobs=1,\n",
       "           oob_score=False, random_state=42, verbose=0, warm_start=False)"
      ]
     },
     "execution_count": 89,
     "metadata": {},
     "output_type": "execute_result"
    }
   ],
   "source": [
    "# fit\n",
    "rf2.fit(X_train2, y_train2)"
   ]
  },
  {
   "cell_type": "code",
   "execution_count": 117,
   "metadata": {},
   "outputs": [
    {
     "data": {
      "text/plain": [
       "0.5621607537619494"
      ]
     },
     "execution_count": 117,
     "metadata": {},
     "output_type": "execute_result"
    }
   ],
   "source": [
    "# score\n",
    "scores = cross_val_score(rf2, X_test2, y_test2, cv=3)\n",
    "scores.mean()"
   ]
  },
  {
   "cell_type": "code",
   "execution_count": 116,
   "metadata": {},
   "outputs": [
    {
     "name": "stdout",
     "output_type": "stream",
     "text": [
      "0.5455019346532033\n",
      "0.5621607537619494\n",
      "0.5492743219912044\n",
      "0.5547888246547055\n",
      "0.5510289532952445\n",
      "0.5543100072007018\n",
      "0.542175878956447\n",
      "0.5501817459362216\n",
      "0.5404117766871641\n"
     ]
    }
   ],
   "source": [
    "# what is best cv to use (after you run this cell, take best cv-value and re-run cell above)\n",
    "cv_list = [2,3,4,5,6,7,8,9,10]\n",
    "\n",
    "for cv in cv_list:\n",
    "    scores = cross_val_score(rf2, X_test2, y_test2, cv=cv)\n",
    "    print(scores.mean())"
   ]
  },
  {
   "cell_type": "markdown",
   "metadata": {},
   "source": [
    "**Model with 7 most important features (all statistically significant with 95% confidence)**"
   ]
  },
  {
   "cell_type": "code",
   "execution_count": 155,
   "metadata": {
    "collapsed": true
   },
   "outputs": [],
   "source": [
    "# X and y in training and test\n",
    "cols = ['PAR_ED_PCT_PS', 'TUITIONFEE_OUT', 'COSTT4_A', 'INEXPFTE', 'AVGFACSAL', 'HI_INC_DEBT_MDN', 'LO_INC_DEBT_MDN']\n",
    "\n",
    "X_train4 = indep_train[cols]\n",
    "X_test4 = indep_test[cols]\n",
    "y_train4 = dep_train\n",
    "y_test4 = dep_test"
   ]
  },
  {
   "cell_type": "code",
   "execution_count": 156,
   "metadata": {},
   "outputs": [
    {
     "name": "stdout",
     "output_type": "stream",
     "text": [
      "{'max_depth': 6, 'max_features': 'sqrt', 'n_estimators': 8, 'verbose': 0}\n"
     ]
    }
   ],
   "source": [
    "# GridSearchCV - best hyperparameter\n",
    "grid = {'n_estimators': np.arange(1, 10),\n",
    "        'max_depth': np.arange(1, 10),\n",
    "        'max_features' : ('auto', 'sqrt', 'log2', None),\n",
    "        'verbose' : np.arange(0, 1)}\n",
    "\n",
    "rfr4 = RandomForestRegressor(random_state=42)\n",
    "gs = GridSearchCV(rfr4, grid)\n",
    "\n",
    "gs.fit(X_train4, y_train4)\n",
    "\n",
    "print(gs.best_params_)"
   ]
  },
  {
   "cell_type": "code",
   "execution_count": 157,
   "metadata": {
    "collapsed": true
   },
   "outputs": [],
   "source": [
    "# RF model (best hyperparameter)\n",
    "rf4 = RandomForestRegressor(max_depth=6, max_features='sqrt', n_estimators=8, verbose=0, random_state=42)"
   ]
  },
  {
   "cell_type": "code",
   "execution_count": 158,
   "metadata": {},
   "outputs": [
    {
     "data": {
      "text/plain": [
       "RandomForestRegressor(bootstrap=True, criterion='mse', max_depth=6,\n",
       "           max_features='sqrt', max_leaf_nodes=None,\n",
       "           min_impurity_decrease=0.0, min_impurity_split=None,\n",
       "           min_samples_leaf=1, min_samples_split=2,\n",
       "           min_weight_fraction_leaf=0.0, n_estimators=8, n_jobs=1,\n",
       "           oob_score=False, random_state=42, verbose=0, warm_start=False)"
      ]
     },
     "execution_count": 158,
     "metadata": {},
     "output_type": "execute_result"
    }
   ],
   "source": [
    "# fit\n",
    "rf4.fit(X_train4, y_train4)"
   ]
  },
  {
   "cell_type": "code",
   "execution_count": 161,
   "metadata": {},
   "outputs": [
    {
     "data": {
      "text/plain": [
       "0.596817925158519"
      ]
     },
     "execution_count": 161,
     "metadata": {},
     "output_type": "execute_result"
    }
   ],
   "source": [
    "# score\n",
    "scores = cross_val_score(rf4, X_test4, y_test4, cv=3)\n",
    "scores.mean()"
   ]
  },
  {
   "cell_type": "code",
   "execution_count": 160,
   "metadata": {},
   "outputs": [
    {
     "name": "stdout",
     "output_type": "stream",
     "text": [
      "0.5866122177056627\n",
      "0.596817925158519\n",
      "0.5818489335102436\n",
      "0.5848359888394727\n",
      "0.5676872518109934\n",
      "0.5888463305652698\n",
      "0.5690519037551549\n",
      "0.5898221311674313\n",
      "0.5740947483421908\n"
     ]
    }
   ],
   "source": [
    "# what is best cv to use (after you run this cell, take best cv-value and re-run cell above)\n",
    "cv_list = [2,3,4,5,6,7,8,9,10]\n",
    "\n",
    "for cv in cv_list:\n",
    "    scores = cross_val_score(rf4, X_test4, y_test4, cv=cv)\n",
    "    print(scores.mean())"
   ]
  },
  {
   "cell_type": "markdown",
   "metadata": {},
   "source": [
    "**Model with all features - the least important feature**"
   ]
  },
  {
   "cell_type": "code",
   "execution_count": 91,
   "metadata": {
    "collapsed": true
   },
   "outputs": [],
   "source": [
    "# X and y in training and test\n",
    "cols = ['LO_INC_DEBT_MDN', 'AVGFACSAL', 'HI_INC_DEBT_MDN', 'TRANS_4', 'INEXPFTE', 'TUITIONFEE_OUT',\n",
    "             'FEMALE', 'D_PCTPELL_PCTFLOAN', 'AGE_ENTRY', 'PFTFAC', 'PAR_ED_PCT_PS', 'TUITFTE', 'PCTFLOAN',\n",
    "              'WDRAW_DEBT_MDN', 'TUITIONFEE_IN', 'COSTT4_A', 'CONTROL']\n",
    "\n",
    "X_train3 = indep_train[cols]\n",
    "X_test3 = indep_test[cols]\n",
    "y_train3 = dep_train\n",
    "y_test3 = dep_test"
   ]
  },
  {
   "cell_type": "code",
   "execution_count": 92,
   "metadata": {},
   "outputs": [
    {
     "name": "stdout",
     "output_type": "stream",
     "text": [
      "{'max_depth': 8, 'max_features': 'auto', 'n_estimators': 9, 'verbose': 0}\n"
     ]
    }
   ],
   "source": [
    "# GridSearchCV - best hyperparameter\n",
    "grid = {'n_estimators': np.arange(1, 10),\n",
    "        'max_depth': np.arange(1, 10),\n",
    "        'max_features' : ('auto', 'sqrt', 'log2', None),\n",
    "        'verbose' : np.arange(0, 1)}\n",
    "\n",
    "rfr3 = RandomForestRegressor(random_state=42)\n",
    "gs = GridSearchCV(rfr3, grid)\n",
    "\n",
    "gs.fit(X_train3, y_train3)\n",
    "\n",
    "print(gs.best_params_)"
   ]
  },
  {
   "cell_type": "code",
   "execution_count": 93,
   "metadata": {
    "collapsed": true
   },
   "outputs": [],
   "source": [
    "# RF model (best hyperparameter)\n",
    "rf3 = RandomForestRegressor(max_depth=8, max_features='auto', n_estimators=9, verbose=0, random_state=42)"
   ]
  },
  {
   "cell_type": "code",
   "execution_count": 94,
   "metadata": {},
   "outputs": [
    {
     "data": {
      "text/plain": [
       "RandomForestRegressor(bootstrap=True, criterion='mse', max_depth=8,\n",
       "           max_features='auto', max_leaf_nodes=None,\n",
       "           min_impurity_decrease=0.0, min_impurity_split=None,\n",
       "           min_samples_leaf=1, min_samples_split=2,\n",
       "           min_weight_fraction_leaf=0.0, n_estimators=9, n_jobs=1,\n",
       "           oob_score=False, random_state=42, verbose=0, warm_start=False)"
      ]
     },
     "execution_count": 94,
     "metadata": {},
     "output_type": "execute_result"
    }
   ],
   "source": [
    "# fit\n",
    "rf3.fit(X_train3, y_train3)"
   ]
  },
  {
   "cell_type": "code",
   "execution_count": 115,
   "metadata": {},
   "outputs": [
    {
     "data": {
      "text/plain": [
       "0.5993193665032057"
      ]
     },
     "execution_count": 115,
     "metadata": {},
     "output_type": "execute_result"
    }
   ],
   "source": [
    "# score\n",
    "scores = cross_val_score(rf3, X_test3, y_test3, cv=7)\n",
    "scores.mean()"
   ]
  },
  {
   "cell_type": "code",
   "execution_count": 114,
   "metadata": {},
   "outputs": [
    {
     "name": "stdout",
     "output_type": "stream",
     "text": [
      "0.5458033271962136\n",
      "0.5893055265749666\n",
      "0.577369235310941\n",
      "0.5818238964387147\n",
      "0.5907281688578869\n",
      "0.5993193665032057\n",
      "0.5684279583019545\n",
      "0.559710308656471\n",
      "0.5608441812173328\n"
     ]
    }
   ],
   "source": [
    "# what is best cv to use (after you run this cell, take best cv-value and re-run cell above)\n",
    "cv_list = [2,3,4,5,6,7,8,9,10]\n",
    "\n",
    "for cv in cv_list:\n",
    "    scores = cross_val_score(rf3, X_test3, y_test3, cv=cv)\n",
    "    print(scores.mean())"
   ]
  },
  {
   "cell_type": "code",
   "execution_count": null,
   "metadata": {
    "collapsed": true
   },
   "outputs": [],
   "source": []
  },
  {
   "cell_type": "code",
   "execution_count": null,
   "metadata": {
    "collapsed": true
   },
   "outputs": [],
   "source": [
    "# Do we need to balance the classes?"
   ]
  },
  {
   "cell_type": "code",
   "execution_count": null,
   "metadata": {
    "collapsed": true
   },
   "outputs": [],
   "source": []
  },
  {
   "cell_type": "markdown",
   "metadata": {},
   "source": [
    "**Quick check with LinReg**"
   ]
  },
  {
   "cell_type": "code",
   "execution_count": 125,
   "metadata": {},
   "outputs": [
    {
     "data": {
      "text/plain": [
       "0.6239471511380881"
      ]
     },
     "execution_count": 125,
     "metadata": {},
     "output_type": "execute_result"
    }
   ],
   "source": [
    "cols = ['LO_INC_DEBT_MDN', 'AVGFACSAL', 'HI_INC_DEBT_MDN', 'TRANS_4', 'INEXPFTE', 'TUITIONFEE_OUT', 'REGION',\n",
    "             'FEMALE', 'D_PCTPELL_PCTFLOAN', 'AGE_ENTRY', 'PFTFAC', 'PAR_ED_PCT_PS', 'TUITFTE', 'PCTFLOAN',\n",
    "              'WDRAW_DEBT_MDN', 'TUITIONFEE_IN', 'COSTT4_A', 'CONTROL']\n",
    "X_train4 = indep_train[cols]\n",
    "X_test4 = indep_test[cols]\n",
    "y_train4 = dep_train\n",
    "y_test4 = dep_test\n",
    "\n",
    "# standardize the predictors\n",
    "ss = StandardScaler()\n",
    "ss.fit(X_train4)\n",
    "X_train4_s = ss.transform(X_train4)\n",
    "X_test4_s = ss.transform(X_test4)\n",
    "\n",
    "#linear regression\n",
    "linreg = LinearRegression()\n",
    "\n",
    "# fit\n",
    "linreg.fit(X_train4_s, y_train4) \n",
    "\n",
    "# score\n",
    "scores = cross_val_score(linreg, X_test4_s, y_test4, cv=None) # cv=None is the same as cv=3\n",
    "scores.mean()"
   ]
  },
  {
   "cell_type": "code",
   "execution_count": 126,
   "metadata": {},
   "outputs": [
    {
     "name": "stdout",
     "output_type": "stream",
     "text": [
      "0.606335709205927\n",
      "0.6239471511380881\n",
      "0.6183972167909103\n",
      "0.6220302384191669\n",
      "0.6217537661795903\n",
      "0.6195467428876237\n",
      "0.6150604000632817\n",
      "0.6136850518865167\n",
      "0.6131245626468605\n"
     ]
    }
   ],
   "source": [
    "# what is best cv to use (after you run this cell, take best cv-value and re-run cell above)\n",
    "cv_list = [2,3,4,5,6,7,8,9,10]\n",
    "\n",
    "for cv in cv_list:\n",
    "    scores = cross_val_score(linreg, X_test4_s, y_test4, cv=cv)\n",
    "    print(scores.mean())"
   ]
  },
  {
   "cell_type": "markdown",
   "metadata": {},
   "source": [
    "**Looking at schools depending on ownership**"
   ]
  },
  {
   "cell_type": "code",
   "execution_count": 130,
   "metadata": {},
   "outputs": [
    {
     "data": {
      "text/plain": [
       "(2489, 20)"
      ]
     },
     "execution_count": 130,
     "metadata": {},
     "output_type": "execute_result"
    }
   ],
   "source": [
    "final_df.shape"
   ]
  },
  {
   "cell_type": "code",
   "execution_count": 140,
   "metadata": {},
   "outputs": [
    {
     "data": {
      "text/plain": [
       "array([1.        , 2.        , 3.        , 1.4       , 1.6       ,\n",
       "       2.6       , 2.8       , 2.4       , 2.2       , 1.2       ,\n",
       "       1.8       , 2.75      , 2.25      , 2.5       , 1.75      ,\n",
       "       2.66666667, 2.33333333])"
      ]
     },
     "execution_count": 140,
     "metadata": {},
     "output_type": "execute_result"
    }
   ],
   "source": [
    "final_df['CONTROL'].unique()"
   ]
  },
  {
   "cell_type": "code",
   "execution_count": 143,
   "metadata": {},
   "outputs": [
    {
     "data": {
      "text/plain": [
       "56"
      ]
     },
     "execution_count": 143,
     "metadata": {},
     "output_type": "execute_result"
    }
   ],
   "source": [
    "# public\n",
    "len(final_df[final_df['CONTROL'] == 1])"
   ]
  },
  {
   "cell_type": "code",
   "execution_count": 132,
   "metadata": {},
   "outputs": [
    {
     "data": {
      "text/plain": [
       "522"
      ]
     },
     "execution_count": 132,
     "metadata": {},
     "output_type": "execute_result"
    }
   ],
   "source": [
    "# privat (non profit)\n",
    "len(final_df[final_df['CONTROL'] == 2])"
   ]
  },
  {
   "cell_type": "code",
   "execution_count": 133,
   "metadata": {},
   "outputs": [
    {
     "data": {
      "text/plain": [
       "129"
      ]
     },
     "execution_count": 133,
     "metadata": {},
     "output_type": "execute_result"
    }
   ],
   "source": [
    "# privat (for profit)\n",
    "len(final_df[final_df['CONTROL'] == 3])"
   ]
  },
  {
   "cell_type": "code",
   "execution_count": 136,
   "metadata": {},
   "outputs": [
    {
     "data": {
      "image/png": "[encoded data removed]",
      "text/plain": [
       "<matplotlib.figure.Figure at 0x1a5bdb07b8>"
      ]
     },
     "metadata": {},
     "output_type": "display_data"
    }
   ],
   "source": [
    "# Make a bar chart\n",
    "control = ('Public', 'Privat (nonprofit)', 'Privat (for-profit)')\n",
    "y_pos = np.arange(len(control))\n",
    "type_control = [(len(final_df[final_df['CONTROL'] == 1])/2489),\n",
    "                 (len(final_df[final_df['CONTROL'] == 2])/2489),\n",
    "                 (len(final_df[final_df['CONTROL'] == 3])/2489)]\n",
    "    \n",
    "fig, ax = plt.subplots()\n",
    "fig.set_size_inches(9, 6)\n",
    "\n",
    "barlist = ax.bar(y_pos, type_control, align='center')\n",
    "barlist[0].set_color('r')\n",
    "barlist[1].set_color('g')\n",
    "barlist[2].set_color('b')\n",
    "\n",
    "plt.xticks(y_pos, control)\n",
    "plt.xlabel('Ownership')\n",
    "plt.ylabel('Share')\n",
    "plt.title('Privat or Public Colleges?')\n",
    "\n",
    "plt.rc('axes', titlesize=16)     \n",
    "plt.rc('axes', labelsize=12)    \n",
    "plt.rc('xtick', labelsize=12)   \n",
    "plt.rc('figure', titlesize=12)  \n",
    " \n",
    "plt.show()"
   ]
  },
  {
   "cell_type": "code",
   "execution_count": null,
   "metadata": {
    "collapsed": true
   },
   "outputs": [],
   "source": [
    "# the bar chart above can not be used"
   ]
  },
  {
   "cell_type": "code",
   "execution_count": 144,
   "metadata": {},
   "outputs": [
    {
     "data": {
      "text/plain": [
       "707"
      ]
     },
     "execution_count": 144,
     "metadata": {},
     "output_type": "execute_result"
    }
   ],
   "source": [
    "56+522+129"
   ]
  },
  {
   "cell_type": "code",
   "execution_count": null,
   "metadata": {
    "collapsed": true
   },
   "outputs": [],
   "source": [
    "# the bar char only contain 707 out of 2489 colleges in our final_df"
   ]
  }
 ],
 "metadata": {
  "kernelspec": {
   "display_name": "Python [default]",
   "language": "python",
   "name": "python3"
  },
  "language_info": {
   "codemirror_mode": {
    "name": "ipython",
    "version": 3
   },
   "file_extension": ".py",
   "mimetype": "text/x-python",
   "name": "python",
   "nbconvert_exporter": "python",
   "pygments_lexer": "ipython3",
   "version": "3.6.3"
  }
 },
 "nbformat": 4,
 "nbformat_minor": 2
}
